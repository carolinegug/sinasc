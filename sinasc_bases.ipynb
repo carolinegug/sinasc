{
 "cells": [
  {
   "cell_type": "markdown",
   "metadata": {},
   "source": [
    "# Geração de bases modeladas para exploração de dados no Power BI\n",
    "\n",
    "O dicionário de campos da base de dados do SINASC se encontra nesta [planilha](https://docs.google.com/spreadsheets/d/1TwysowkLCLIGGLplKkKibahrsG52NqVKOZuTjWyrZ-8/edit#gid=1412172863)."
   ]
  },
  {
   "cell_type": "markdown",
   "metadata": {},
   "source": [
    "# 📚 Libs"
   ]
  },
  {
   "cell_type": "code",
   "execution_count": 1,
   "metadata": {},
   "outputs": [],
   "source": [
    "import pandas as pd\n",
    "import numpy as np\n",
    "import re #para expressões regulares\n",
    "from datetime import datetime"
   ]
  },
  {
   "cell_type": "markdown",
   "metadata": {},
   "source": [
    "# 🎲 FATO SINASC"
   ]
  },
  {
   "cell_type": "markdown",
   "metadata": {},
   "source": [
    "[Fonte OpenDataSus](https://opendatasus.saude.gov.br/dataset/sistema-de-informacao-sobre-nascidos-vivos-sinasc)"
   ]
  },
  {
   "cell_type": "markdown",
   "metadata": {},
   "source": [
    "## Importação"
   ]
  },
  {
   "cell_type": "code",
   "execution_count": 2,
   "metadata": {},
   "outputs": [
    {
     "name": "stderr",
     "output_type": "stream",
     "text": [
      "C:\\Users\\carol\\AppData\\Local\\Temp\\ipykernel_12912\\2363134596.py:2: DtypeWarning: Columns (32) have mixed types. Specify dtype option on import or set low_memory=False.\n",
      "  dados = pd.read_csv(arquivo, sep=\";\")\n"
     ]
    }
   ],
   "source": [
    "arquivo = r'C:\\Users\\carol\\OneDrive\\Estudos\\MBA Data Science\\TCC\\SINASC\\Dados_SINASC\\SINASC_2022.csv'\n",
    "dados = pd.read_csv(arquivo, sep=\";\")"
   ]
  },
  {
   "cell_type": "markdown",
   "metadata": {},
   "source": [
    "## Limpeza dos dados"
   ]
  },
  {
   "cell_type": "code",
   "execution_count": 3,
   "metadata": {},
   "outputs": [],
   "source": [
    "#mantendo colunas que vamos usar\n",
    "colunas_selecionadas = ['DTNASC',\n",
    "'LOCNASC',\n",
    "'CODMUNNASC',\n",
    "'CODESTAB',\n",
    "'SEXO',\n",
    "'RACACOR',\n",
    "'PESO',\n",
    "'CODANOMAL',\n",
    "'IDANOMAL',\n",
    "'GESTACAO',\n",
    "'SEMAGESTAC',\n",
    "'GRAVIDEZ',\n",
    "'TPAPRESENT',\n",
    "'STTRABPART',\n",
    "'STCESPARTO',\n",
    "'PARTO',\n",
    "'TPNASCASSI',\n",
    "'IDADEMAE',\n",
    "'ESTCIVMAE',\n",
    "'RACACORMAE',\n",
    "'ESCMAE',\n",
    "'ESCMAE2010',\n",
    "'ESCMAEAGR1',\n",
    "'CODOCUPMAE',\n",
    "'PARIDADE',\n",
    "'QTDGESTANT',\n",
    "'QTDFILVIVO',\n",
    "'QTDFILMORT',\n",
    "'QTDPARTNOR',\n",
    "'QTDPARTCES',\n",
    "'MESPRENAT',\n",
    "'CONSULTAS',\n",
    "'CONSPRENAT',\n",
    "'KOTELCHUCK',\n",
    "'TPROBSON',\n",
    "'IDADEPAI']\n",
    "\n",
    "dados = dados[colunas_selecionadas]"
   ]
  },
  {
   "cell_type": "markdown",
   "metadata": {},
   "source": [
    "## Transformação de colunas"
   ]
  },
  {
   "cell_type": "markdown",
   "metadata": {},
   "source": [
    "### DTNASC"
   ]
  },
  {
   "cell_type": "code",
   "execution_count": 4,
   "metadata": {},
   "outputs": [],
   "source": [
    "dados['DTNASC'] = dados['DTNASC'].astype(str).str.pad(8, side = 'left', fillchar = '0')\n",
    "dados['DTNASC'] = pd.to_datetime(dados['DTNASC'], format='%d%m%Y')"
   ]
  },
  {
   "cell_type": "markdown",
   "metadata": {},
   "source": [
    "### CODANOMAL"
   ]
  },
  {
   "cell_type": "code",
   "execution_count": 5,
   "metadata": {},
   "outputs": [],
   "source": [
    "#substitui a letra X por nada, pois não encontramos anomalia contendo a letra X no fim\n",
    "dados['CODANOMAL'] = dados['CODANOMAL'].str.replace('X', '')\n",
    "#substituindo o CID Q356 por Q359 pois foi substituído\n",
    "#https://www.hidoctor.com.br/cid10/p/capitulo/17/grupo/Q35-Q37/categoria/Q35/subcategoria/Q359\n",
    "dados['CODANOMAL'] = dados['CODANOMAL'].str.replace('Q356', 'Q359')\n",
    "# conta quantas letras possui no campo CODANOMAL\n",
    "dados['qt_anomal'] = dados['CODANOMAL'].str.count('[a-zA-Z]')\n",
    "#substitui valores nulos e aplica formato de número inteiro\n",
    "dados['qt_anomal'] = dados['qt_anomal'].fillna(0).astype(int)"
   ]
  },
  {
   "cell_type": "markdown",
   "metadata": {},
   "source": [
    "### CODESTAB"
   ]
  },
  {
   "cell_type": "code",
   "execution_count": 6,
   "metadata": {},
   "outputs": [],
   "source": [
    "dados['CODESTAB'] = dados['CODESTAB'].fillna(0).astype(int).astype(str)"
   ]
  },
  {
   "cell_type": "markdown",
   "metadata": {},
   "source": [
    "## Criação de novas colunas"
   ]
  },
  {
   "cell_type": "markdown",
   "metadata": {},
   "source": [
    "### indice"
   ]
  },
  {
   "cell_type": "code",
   "execution_count": 7,
   "metadata": {},
   "outputs": [],
   "source": [
    "#coluna adicional de índice\n",
    "dados['indice'] = range(1, len(dados) + 1)\n",
    "dados['indice'] = dados['indice'].astype(str)"
   ]
  },
  {
   "cell_type": "markdown",
   "metadata": {},
   "source": [
    "### ano_mes"
   ]
  },
  {
   "cell_type": "code",
   "execution_count": 8,
   "metadata": {},
   "outputs": [],
   "source": [
    "dados['ano_mes'] = dados['DTNASC'].dt.strftime('%Y-%m')"
   ]
  },
  {
   "cell_type": "markdown",
   "metadata": {},
   "source": [
    "### atualização colunas"
   ]
  },
  {
   "cell_type": "code",
   "execution_count": 9,
   "metadata": {},
   "outputs": [],
   "source": [
    "#Renomeando todas colunas\n",
    "novo_nome = {\n",
    "    'DTNASC': 'dt_nasc',\n",
    "    'LOCNASC': 'loc_nasc',\n",
    "    'CODMUNNASC': 'cod_mun_nasc',\n",
    "    'CODESTAB': 'cod_estab',\n",
    "    'SEXO': 'sexo',\n",
    "    'RACACOR': 'raca_cor',\n",
    "    'PESO': 'peso',\n",
    "    'CODANOMAL': 'cod_anomal',\n",
    "    'IDANOMAL': 'id_anomal',\n",
    "    'GESTACAO': 'gestacao',\n",
    "    'SEMAGESTAC': 'sema_gestac',\n",
    "    'GRAVIDEZ': 'gravidez',\n",
    "    'TPAPRESENT': 'tpa_present',\n",
    "    'STTRABPART': 'st_trab_parto',\n",
    "    'STCESPARTO': 'st_ces_parto',\n",
    "    'PARTO': 'parto',\n",
    "    'TPNASCASSI': 'tp_nasc_assi',\n",
    "    'IDADEMAE': 'idade_mae',\n",
    "    'ESTCIVMAE': 'est_civ_mae',\n",
    "    'RACACORMAE': 'raca_cor_mae',\n",
    "    'ESCMAE': 'esc_mae',\n",
    "    'ESCMAE2010': 'esc_mae_2010',\n",
    "    'ESCMAEAGR1': 'esc_mae_gr1',\n",
    "    'CODOCUPMAE': 'cod_ocup_mae',\n",
    "    'PARIDADE': 'paridade',\n",
    "    'QTDGESTANT': 'qtd_gestant',\n",
    "    'QTDFILVIVO': 'qtd_fil_vivo',\n",
    "    'QTDFILMORT': 'qtd_fil_mort',\n",
    "    'QTDPARTNOR': 'qtd_part_nor',\n",
    "    'QTDPARTCES': 'qtd_part_ces',\n",
    "    'MESPRENAT': 'mes_pre_nat',\n",
    "    'CONSULTAS': 'consultas',\n",
    "    'CONSPRENAT': 'cons_pre_nat',\n",
    "    'KOTELCHUCK': 'kotelchuck',\n",
    "    'TPROBSON': 'tp_robson',\n",
    "    'IDADEPAI': 'idade_pai'\n",
    "}\n",
    "\n",
    "dados.rename(columns=novo_nome, inplace=True)"
   ]
  },
  {
   "cell_type": "code",
   "execution_count": 10,
   "metadata": {},
   "outputs": [],
   "source": [
    "#transformando colunas float que na verdade são string\n",
    "colunas_float = ['raca_cor', 'cod_anomal', 'id_anomal', 'gestacao', 'gravidez', 'tpa_present', 'st_trab_parto', 'st_ces_parto', 'parto', 'tp_nasc_assi', 'est_civ_mae', 'raca_cor_mae', 'esc_mae', 'esc_mae_2010', 'cod_ocup_mae', 'qtd_gestant', 'qtd_fil_vivo', 'qtd_fil_mort', 'qtd_part_nor', 'qtd_part_ces', 'mes_pre_nat', 'consultas', 'cons_pre_nat', 'sema_gestac']\n",
    "\n",
    "for coluna in colunas_float:\n",
    "    dados [coluna] = dados[coluna].astype(str).str.replace('.0', '')"
   ]
  },
  {
   "cell_type": "code",
   "execution_count": 11,
   "metadata": {},
   "outputs": [],
   "source": [
    "#transformando coluna que está como float mas é int\n",
    "coluna_int = ['idade_mae', 'idade_pai']\n",
    "for coluna in coluna_int:\n",
    "    dados [coluna] = dados[coluna].fillna(0).astype(int)"
   ]
  },
  {
   "cell_type": "code",
   "execution_count": 12,
   "metadata": {},
   "outputs": [
    {
     "data": {
      "text/html": [
       "<div>\n",
       "<style scoped>\n",
       "    .dataframe tbody tr th:only-of-type {\n",
       "        vertical-align: middle;\n",
       "    }\n",
       "\n",
       "    .dataframe tbody tr th {\n",
       "        vertical-align: top;\n",
       "    }\n",
       "\n",
       "    .dataframe thead th {\n",
       "        text-align: right;\n",
       "    }\n",
       "</style>\n",
       "<table border=\"1\" class=\"dataframe\">\n",
       "  <thead>\n",
       "    <tr style=\"text-align: right;\">\n",
       "      <th></th>\n",
       "      <th>dt_nasc</th>\n",
       "      <th>loc_nasc</th>\n",
       "      <th>cod_mun_nasc</th>\n",
       "      <th>cod_estab</th>\n",
       "      <th>sexo</th>\n",
       "      <th>raca_cor</th>\n",
       "      <th>peso</th>\n",
       "      <th>cod_anomal</th>\n",
       "      <th>id_anomal</th>\n",
       "      <th>gestacao</th>\n",
       "      <th>...</th>\n",
       "      <th>qtd_part_ces</th>\n",
       "      <th>mes_pre_nat</th>\n",
       "      <th>consultas</th>\n",
       "      <th>cons_pre_nat</th>\n",
       "      <th>kotelchuck</th>\n",
       "      <th>tp_robson</th>\n",
       "      <th>idade_pai</th>\n",
       "      <th>qt_anomal</th>\n",
       "      <th>indice</th>\n",
       "      <th>ano_mes</th>\n",
       "    </tr>\n",
       "  </thead>\n",
       "  <tbody>\n",
       "    <tr>\n",
       "      <th>0</th>\n",
       "      <td>2022-01-03</td>\n",
       "      <td>1</td>\n",
       "      <td>110001</td>\n",
       "      <td>2516500</td>\n",
       "      <td>2</td>\n",
       "      <td>1</td>\n",
       "      <td>3412.0</td>\n",
       "      <td>nan</td>\n",
       "      <td>2</td>\n",
       "      <td>5</td>\n",
       "      <td>...</td>\n",
       "      <td>0</td>\n",
       "      <td>2</td>\n",
       "      <td>4</td>\n",
       "      <td>7</td>\n",
       "      <td>5</td>\n",
       "      <td>7</td>\n",
       "      <td>20</td>\n",
       "      <td>0</td>\n",
       "      <td>1</td>\n",
       "      <td>2022-01</td>\n",
       "    </tr>\n",
       "    <tr>\n",
       "      <th>1</th>\n",
       "      <td>2022-01-07</td>\n",
       "      <td>1</td>\n",
       "      <td>110001</td>\n",
       "      <td>2516500</td>\n",
       "      <td>2</td>\n",
       "      <td>1</td>\n",
       "      <td>3594.0</td>\n",
       "      <td>nan</td>\n",
       "      <td>2</td>\n",
       "      <td>5</td>\n",
       "      <td>...</td>\n",
       "      <td>0</td>\n",
       "      <td>2</td>\n",
       "      <td>4</td>\n",
       "      <td>8</td>\n",
       "      <td>5</td>\n",
       "      <td>1</td>\n",
       "      <td>28</td>\n",
       "      <td>0</td>\n",
       "      <td>2</td>\n",
       "      <td>2022-01</td>\n",
       "    </tr>\n",
       "    <tr>\n",
       "      <th>2</th>\n",
       "      <td>2022-01-12</td>\n",
       "      <td>1</td>\n",
       "      <td>110001</td>\n",
       "      <td>2516500</td>\n",
       "      <td>2</td>\n",
       "      <td>nan</td>\n",
       "      <td>3470.0</td>\n",
       "      <td>nan</td>\n",
       "      <td>2</td>\n",
       "      <td>5</td>\n",
       "      <td>...</td>\n",
       "      <td>1</td>\n",
       "      <td>1</td>\n",
       "      <td>4</td>\n",
       "      <td>7</td>\n",
       "      <td>5</td>\n",
       "      <td>5</td>\n",
       "      <td>37</td>\n",
       "      <td>0</td>\n",
       "      <td>3</td>\n",
       "      <td>2022-01</td>\n",
       "    </tr>\n",
       "    <tr>\n",
       "      <th>3</th>\n",
       "      <td>2022-01-12</td>\n",
       "      <td>1</td>\n",
       "      <td>110001</td>\n",
       "      <td>2516500</td>\n",
       "      <td>2</td>\n",
       "      <td>4</td>\n",
       "      <td>3260.0</td>\n",
       "      <td>nan</td>\n",
       "      <td>2</td>\n",
       "      <td>5</td>\n",
       "      <td>...</td>\n",
       "      <td>1</td>\n",
       "      <td>1</td>\n",
       "      <td>4</td>\n",
       "      <td>31</td>\n",
       "      <td>5</td>\n",
       "      <td>5</td>\n",
       "      <td>40</td>\n",
       "      <td>0</td>\n",
       "      <td>4</td>\n",
       "      <td>2022-01</td>\n",
       "    </tr>\n",
       "    <tr>\n",
       "      <th>4</th>\n",
       "      <td>2022-01-17</td>\n",
       "      <td>1</td>\n",
       "      <td>110001</td>\n",
       "      <td>2516500</td>\n",
       "      <td>2</td>\n",
       "      <td>nan</td>\n",
       "      <td>3232.0</td>\n",
       "      <td>nan</td>\n",
       "      <td>2</td>\n",
       "      <td>5</td>\n",
       "      <td>...</td>\n",
       "      <td>0</td>\n",
       "      <td>2</td>\n",
       "      <td>4</td>\n",
       "      <td>8</td>\n",
       "      <td>5</td>\n",
       "      <td>2</td>\n",
       "      <td>37</td>\n",
       "      <td>0</td>\n",
       "      <td>5</td>\n",
       "      <td>2022-01</td>\n",
       "    </tr>\n",
       "  </tbody>\n",
       "</table>\n",
       "<p>5 rows × 39 columns</p>\n",
       "</div>"
      ],
      "text/plain": [
       "     dt_nasc  loc_nasc  cod_mun_nasc cod_estab  sexo raca_cor    peso  \\\n",
       "0 2022-01-03         1        110001   2516500     2        1  3412.0   \n",
       "1 2022-01-07         1        110001   2516500     2        1  3594.0   \n",
       "2 2022-01-12         1        110001   2516500     2      nan  3470.0   \n",
       "3 2022-01-12         1        110001   2516500     2        4  3260.0   \n",
       "4 2022-01-17         1        110001   2516500     2      nan  3232.0   \n",
       "\n",
       "  cod_anomal id_anomal gestacao  ... qtd_part_ces mes_pre_nat consultas  \\\n",
       "0        nan         2        5  ...            0           2         4   \n",
       "1        nan         2        5  ...            0           2         4   \n",
       "2        nan         2        5  ...            1           1         4   \n",
       "3        nan         2        5  ...            1           1         4   \n",
       "4        nan         2        5  ...            0           2         4   \n",
       "\n",
       "  cons_pre_nat kotelchuck tp_robson idade_pai  qt_anomal indice  ano_mes  \n",
       "0            7          5         7        20          0      1  2022-01  \n",
       "1            8          5         1        28          0      2  2022-01  \n",
       "2            7          5         5        37          0      3  2022-01  \n",
       "3           31          5         5        40          0      4  2022-01  \n",
       "4            8          5         2        37          0      5  2022-01  \n",
       "\n",
       "[5 rows x 39 columns]"
      ]
     },
     "execution_count": 12,
     "metadata": {},
     "output_type": "execute_result"
    }
   ],
   "source": [
    "dados.head()"
   ]
  },
  {
   "cell_type": "markdown",
   "metadata": {},
   "source": [
    "## csv"
   ]
  },
  {
   "cell_type": "code",
   "execution_count": 13,
   "metadata": {},
   "outputs": [],
   "source": [
    "dados.to_csv('f_sinasc_tratado', sep=';', index=False)"
   ]
  },
  {
   "cell_type": "markdown",
   "metadata": {},
   "source": [
    "# 🎲 DIMENSÃO ANOMALIAS"
   ]
  },
  {
   "cell_type": "code",
   "execution_count": 14,
   "metadata": {},
   "outputs": [],
   "source": [
    "df_cod_anomal_sep = pd.DataFrame({'cod_anomal': dados['cod_anomal'].unique()})\n",
    "#quebra os códigos de anomalias\n",
    "df_cod_anomal_sep['cod_anomal_sep'] =  df_cod_anomal_sep['cod_anomal'].str.findall(r'[a-zA-Z]+\\d+')"
   ]
  },
  {
   "cell_type": "code",
   "execution_count": 15,
   "metadata": {},
   "outputs": [],
   "source": [
    "df_cod_anomal_sep = df_cod_anomal_sep.explode('cod_anomal_sep')"
   ]
  },
  {
   "cell_type": "code",
   "execution_count": 16,
   "metadata": {},
   "outputs": [],
   "source": [
    "df_cod_anomal_sep = df_cod_anomal_sep[df_cod_anomal_sep.cod_anomal.notnull()]\n",
    "df_cod_anomal_sep = df_cod_anomal_sep[df_cod_anomal_sep['cod_anomal'] != 'nan']"
   ]
  },
  {
   "cell_type": "code",
   "execution_count": 17,
   "metadata": {},
   "outputs": [
    {
     "data": {
      "text/html": [
       "<div>\n",
       "<style scoped>\n",
       "    .dataframe tbody tr th:only-of-type {\n",
       "        vertical-align: middle;\n",
       "    }\n",
       "\n",
       "    .dataframe tbody tr th {\n",
       "        vertical-align: top;\n",
       "    }\n",
       "\n",
       "    .dataframe thead th {\n",
       "        text-align: right;\n",
       "    }\n",
       "</style>\n",
       "<table border=\"1\" class=\"dataframe\">\n",
       "  <thead>\n",
       "    <tr style=\"text-align: right;\">\n",
       "      <th></th>\n",
       "      <th>cod_anomal</th>\n",
       "      <th>cod_anomal_sep</th>\n",
       "    </tr>\n",
       "  </thead>\n",
       "  <tbody>\n",
       "    <tr>\n",
       "      <th>1</th>\n",
       "      <td>Q369</td>\n",
       "      <td>Q369</td>\n",
       "    </tr>\n",
       "    <tr>\n",
       "      <th>2</th>\n",
       "      <td>Q758</td>\n",
       "      <td>Q758</td>\n",
       "    </tr>\n",
       "    <tr>\n",
       "      <th>3</th>\n",
       "      <td>Q699Q709</td>\n",
       "      <td>Q699</td>\n",
       "    </tr>\n",
       "    <tr>\n",
       "      <th>3</th>\n",
       "      <td>Q699Q709</td>\n",
       "      <td>Q709</td>\n",
       "    </tr>\n",
       "    <tr>\n",
       "      <th>4</th>\n",
       "      <td>Q564</td>\n",
       "      <td>Q564</td>\n",
       "    </tr>\n",
       "  </tbody>\n",
       "</table>\n",
       "</div>"
      ],
      "text/plain": [
       "  cod_anomal cod_anomal_sep\n",
       "1       Q369           Q369\n",
       "2       Q758           Q758\n",
       "3   Q699Q709           Q699\n",
       "3   Q699Q709           Q709\n",
       "4       Q564           Q564"
      ]
     },
     "execution_count": 17,
     "metadata": {},
     "output_type": "execute_result"
    }
   ],
   "source": [
    "df_cod_anomal_sep.head()"
   ]
  },
  {
   "cell_type": "code",
   "execution_count": 18,
   "metadata": {},
   "outputs": [
    {
     "name": "stdout",
     "output_type": "stream",
     "text": [
      "<class 'pandas.core.frame.DataFrame'>\n",
      "Index: 9996 entries, 1 to 3839\n",
      "Data columns (total 2 columns):\n",
      " #   Column          Non-Null Count  Dtype \n",
      "---  ------          --------------  ----- \n",
      " 0   cod_anomal      9996 non-null   object\n",
      " 1   cod_anomal_sep  9996 non-null   object\n",
      "dtypes: object(2)\n",
      "memory usage: 234.3+ KB\n"
     ]
    }
   ],
   "source": [
    "df_cod_anomal_sep.info()"
   ]
  },
  {
   "cell_type": "code",
   "execution_count": 19,
   "metadata": {},
   "outputs": [],
   "source": [
    "df_cod_anomal_sep.to_csv('d_anomalias.csv', sep=';', index=False)"
   ]
  },
  {
   "cell_type": "markdown",
   "metadata": {},
   "source": [
    "# 🎲 DIMENSÃO DESCRIÇÃO ANOMALIAS\n",
    "[Fonte Datasus](http://www2.datasus.gov.br/cid10/V2008/descrcsv.htm)"
   ]
  },
  {
   "cell_type": "code",
   "execution_count": 20,
   "metadata": {},
   "outputs": [],
   "source": [
    "cols = ['SUBCAT', 'CLASSIF', 'RESTRSEXO', 'CAUSAOBITO', 'DESCRICAO']\n",
    "planilha_subcategoria_anomalias = r'C:\\Users\\carol\\OneDrive\\Estudos\\MBA Data Science\\TCC\\SINASC\\CID-10-SUBCATEGORIAS.csv'\n",
    "df_anomal = pd.read_csv(planilha_subcategoria_anomalias, usecols= cols, sep =';', encoding='ISO-8859-1')"
   ]
  },
  {
   "cell_type": "code",
   "execution_count": 21,
   "metadata": {},
   "outputs": [],
   "source": [
    "#renomeando colunas\n",
    "novo_nome = {\n",
    "    'SUBCAT': 'subcat',\n",
    "    'CLASSIF': 'classif',\n",
    "    'RESTRSEXO': 'restr_sexo',\n",
    "    'CAUSAOBITO': 'causa_obito',\n",
    "    'DESCRICAO': 'descricao_subcat',\n",
    "    'DESCRABREV': 'desc_abrev_subcat'\n",
    "}\n",
    "\n",
    "df_anomal.rename(columns=novo_nome, inplace=True)"
   ]
  },
  {
   "cell_type": "code",
   "execution_count": 22,
   "metadata": {},
   "outputs": [],
   "source": [
    "#criando a chave de categoria para facilitar a análise\n",
    "df_anomal['cat'] = df_anomal['subcat'].str.slice(0,3)"
   ]
  },
  {
   "cell_type": "code",
   "execution_count": 23,
   "metadata": {},
   "outputs": [],
   "source": [
    "#importando base de categorias\n",
    "cols = ['CAT', 'DESCRICAO']\n",
    "planilha_categoria_anomalias = r'C:\\Users\\carol\\OneDrive\\Estudos\\MBA Data Science\\TCC\\SINASC\\CID-10-CATEGORIAS.csv'\n",
    "df_cat_anomal = pd.read_csv(planilha_categoria_anomalias, usecols= cols, sep =';', encoding='ISO-8859-1')"
   ]
  },
  {
   "cell_type": "code",
   "execution_count": 24,
   "metadata": {},
   "outputs": [],
   "source": [
    "#renomeando colunas\n",
    "novo_nome = {\n",
    "    'CAT': 'cat',\n",
    "    'DESCRICAO': 'descricao_cat'\n",
    "}\n",
    "\n",
    "df_cat_anomal.rename(columns=novo_nome, inplace=True)"
   ]
  },
  {
   "cell_type": "code",
   "execution_count": 25,
   "metadata": {},
   "outputs": [],
   "source": [
    "#fazendo o join entre subcategoria e categoria\n",
    "df_anomal = pd.merge(df_anomal,df_cat_anomal, on=['cat'], how = 'left')"
   ]
  },
  {
   "cell_type": "code",
   "execution_count": 26,
   "metadata": {},
   "outputs": [
    {
     "data": {
      "text/html": [
       "<div>\n",
       "<style scoped>\n",
       "    .dataframe tbody tr th:only-of-type {\n",
       "        vertical-align: middle;\n",
       "    }\n",
       "\n",
       "    .dataframe tbody tr th {\n",
       "        vertical-align: top;\n",
       "    }\n",
       "\n",
       "    .dataframe thead th {\n",
       "        text-align: right;\n",
       "    }\n",
       "</style>\n",
       "<table border=\"1\" class=\"dataframe\">\n",
       "  <thead>\n",
       "    <tr style=\"text-align: right;\">\n",
       "      <th></th>\n",
       "      <th>subcat</th>\n",
       "      <th>classif</th>\n",
       "      <th>restr_sexo</th>\n",
       "      <th>causa_obito</th>\n",
       "      <th>descricao_subcat</th>\n",
       "      <th>cat</th>\n",
       "      <th>descricao_cat</th>\n",
       "    </tr>\n",
       "  </thead>\n",
       "  <tbody>\n",
       "    <tr>\n",
       "      <th>0</th>\n",
       "      <td>A000</td>\n",
       "      <td>NaN</td>\n",
       "      <td>NaN</td>\n",
       "      <td>NaN</td>\n",
       "      <td>Cólera devida a Vibrio cholerae 01, biótipo ch...</td>\n",
       "      <td>A00</td>\n",
       "      <td>Cólera</td>\n",
       "    </tr>\n",
       "    <tr>\n",
       "      <th>1</th>\n",
       "      <td>A001</td>\n",
       "      <td>NaN</td>\n",
       "      <td>NaN</td>\n",
       "      <td>NaN</td>\n",
       "      <td>Cólera devida a Vibrio cholerae 01, biótipo El...</td>\n",
       "      <td>A00</td>\n",
       "      <td>Cólera</td>\n",
       "    </tr>\n",
       "    <tr>\n",
       "      <th>2</th>\n",
       "      <td>A009</td>\n",
       "      <td>NaN</td>\n",
       "      <td>NaN</td>\n",
       "      <td>NaN</td>\n",
       "      <td>Cólera não especificada</td>\n",
       "      <td>A00</td>\n",
       "      <td>Cólera</td>\n",
       "    </tr>\n",
       "    <tr>\n",
       "      <th>3</th>\n",
       "      <td>A010</td>\n",
       "      <td>NaN</td>\n",
       "      <td>NaN</td>\n",
       "      <td>NaN</td>\n",
       "      <td>Febre tifóide</td>\n",
       "      <td>A01</td>\n",
       "      <td>Febres tifóide e paratifóide</td>\n",
       "    </tr>\n",
       "    <tr>\n",
       "      <th>4</th>\n",
       "      <td>A011</td>\n",
       "      <td>NaN</td>\n",
       "      <td>NaN</td>\n",
       "      <td>NaN</td>\n",
       "      <td>Febre paratifóide A</td>\n",
       "      <td>A01</td>\n",
       "      <td>Febres tifóide e paratifóide</td>\n",
       "    </tr>\n",
       "  </tbody>\n",
       "</table>\n",
       "</div>"
      ],
      "text/plain": [
       "  subcat classif restr_sexo causa_obito  \\\n",
       "0   A000     NaN        NaN         NaN   \n",
       "1   A001     NaN        NaN         NaN   \n",
       "2   A009     NaN        NaN         NaN   \n",
       "3   A010     NaN        NaN         NaN   \n",
       "4   A011     NaN        NaN         NaN   \n",
       "\n",
       "                                    descricao_subcat  cat  \\\n",
       "0  Cólera devida a Vibrio cholerae 01, biótipo ch...  A00   \n",
       "1  Cólera devida a Vibrio cholerae 01, biótipo El...  A00   \n",
       "2                            Cólera não especificada  A00   \n",
       "3                                      Febre tifóide  A01   \n",
       "4                                Febre paratifóide A  A01   \n",
       "\n",
       "                  descricao_cat  \n",
       "0                        Cólera  \n",
       "1                        Cólera  \n",
       "2                        Cólera  \n",
       "3  Febres tifóide e paratifóide  \n",
       "4  Febres tifóide e paratifóide  "
      ]
     },
     "execution_count": 26,
     "metadata": {},
     "output_type": "execute_result"
    }
   ],
   "source": [
    "df_anomal.head()"
   ]
  },
  {
   "cell_type": "code",
   "execution_count": 27,
   "metadata": {},
   "outputs": [
    {
     "name": "stdout",
     "output_type": "stream",
     "text": [
      "<class 'pandas.core.frame.DataFrame'>\n",
      "RangeIndex: 12451 entries, 0 to 12450\n",
      "Data columns (total 7 columns):\n",
      " #   Column            Non-Null Count  Dtype \n",
      "---  ------            --------------  ----- \n",
      " 0   subcat            12451 non-null  object\n",
      " 1   classif           378 non-null    object\n",
      " 2   restr_sexo        874 non-null    object\n",
      " 3   causa_obito       1291 non-null   object\n",
      " 4   descricao_subcat  12451 non-null  object\n",
      " 5   cat               12451 non-null  object\n",
      " 6   descricao_cat     12451 non-null  object\n",
      "dtypes: object(7)\n",
      "memory usage: 681.0+ KB\n"
     ]
    }
   ],
   "source": [
    "df_anomal.info()"
   ]
  },
  {
   "cell_type": "code",
   "execution_count": 28,
   "metadata": {},
   "outputs": [],
   "source": [
    "df_anomal.to_csv('d_desc_anomal.csv', sep = ';', index=False)"
   ]
  },
  {
   "cell_type": "markdown",
   "metadata": {},
   "source": [
    "# 🎲 DIMENSÃO REGIÃO IMEDIATA"
   ]
  },
  {
   "cell_type": "markdown",
   "metadata": {},
   "source": [
    "[Fonte IBGE Censo 2022 - Composição das Regiões Geográficas Imediatas](https://www.ibge.gov.br/estatisticas/sociais/populacao/22827-censo-demografico-2022.html?edicao=38166&t=resultados)"
   ]
  },
  {
   "cell_type": "code",
   "execution_count": 29,
   "metadata": {},
   "outputs": [],
   "source": [
    "planilha_regiao_imediata = r'C:\\Users\\carol\\OneDrive\\Estudos\\MBA Data Science\\TCC\\SINASC\\CD2022_Composicao_Regioes_Geograficas_Imediatas.xlsx'\n",
    "df_regiao_imediata = pd.read_excel(planilha_regiao_imediata, sheet_name=0, usecols='B:E', skiprows=2)"
   ]
  },
  {
   "cell_type": "code",
   "execution_count": 30,
   "metadata": {},
   "outputs": [],
   "source": [
    "df_regiao_imediata.columns = ['geocod_imediata', 'nome_geo_imediata', 'geocod_muni', 'nome_muni']"
   ]
  },
  {
   "cell_type": "code",
   "execution_count": 31,
   "metadata": {},
   "outputs": [],
   "source": [
    "df_regiao_imediata['nome_geo_imediata'] = df_regiao_imediata['nome_geo_imediata'].str.replace(\"'\", \"`\")"
   ]
  },
  {
   "cell_type": "code",
   "execution_count": 32,
   "metadata": {},
   "outputs": [],
   "source": [
    "df_regiao_imediata = df_regiao_imediata.astype('object')"
   ]
  },
  {
   "cell_type": "code",
   "execution_count": 33,
   "metadata": {},
   "outputs": [],
   "source": [
    "#trata columa de codificação\n",
    "df_regiao_imediata['geocod_muni'] = df_regiao_imediata['geocod_muni'].astype(str).str.strip()"
   ]
  },
  {
   "cell_type": "code",
   "execution_count": 34,
   "metadata": {},
   "outputs": [
    {
     "data": {
      "text/html": [
       "<div>\n",
       "<style scoped>\n",
       "    .dataframe tbody tr th:only-of-type {\n",
       "        vertical-align: middle;\n",
       "    }\n",
       "\n",
       "    .dataframe tbody tr th {\n",
       "        vertical-align: top;\n",
       "    }\n",
       "\n",
       "    .dataframe thead th {\n",
       "        text-align: right;\n",
       "    }\n",
       "</style>\n",
       "<table border=\"1\" class=\"dataframe\">\n",
       "  <thead>\n",
       "    <tr style=\"text-align: right;\">\n",
       "      <th></th>\n",
       "      <th>geocod_imediata</th>\n",
       "      <th>nome_geo_imediata</th>\n",
       "      <th>geocod_muni</th>\n",
       "      <th>nome_muni</th>\n",
       "    </tr>\n",
       "  </thead>\n",
       "  <tbody>\n",
       "    <tr>\n",
       "      <th>0</th>\n",
       "      <td>110001</td>\n",
       "      <td>Porto Velho</td>\n",
       "      <td>1100106</td>\n",
       "      <td>Guajará-Mirim</td>\n",
       "    </tr>\n",
       "    <tr>\n",
       "      <th>1</th>\n",
       "      <td>110001</td>\n",
       "      <td>Porto Velho</td>\n",
       "      <td>1100205</td>\n",
       "      <td>Porto Velho</td>\n",
       "    </tr>\n",
       "    <tr>\n",
       "      <th>2</th>\n",
       "      <td>110001</td>\n",
       "      <td>Porto Velho</td>\n",
       "      <td>1100338</td>\n",
       "      <td>Nova Mamoré</td>\n",
       "    </tr>\n",
       "    <tr>\n",
       "      <th>3</th>\n",
       "      <td>110001</td>\n",
       "      <td>Porto Velho</td>\n",
       "      <td>1100809</td>\n",
       "      <td>Candeias do Jamari</td>\n",
       "    </tr>\n",
       "    <tr>\n",
       "      <th>4</th>\n",
       "      <td>110001</td>\n",
       "      <td>Porto Velho</td>\n",
       "      <td>1101104</td>\n",
       "      <td>Itapuã do Oeste</td>\n",
       "    </tr>\n",
       "  </tbody>\n",
       "</table>\n",
       "</div>"
      ],
      "text/plain": [
       "  geocod_imediata nome_geo_imediata geocod_muni           nome_muni\n",
       "0          110001       Porto Velho     1100106       Guajará-Mirim\n",
       "1          110001       Porto Velho     1100205         Porto Velho\n",
       "2          110001       Porto Velho     1100338         Nova Mamoré\n",
       "3          110001       Porto Velho     1100809  Candeias do Jamari\n",
       "4          110001       Porto Velho     1101104     Itapuã do Oeste"
      ]
     },
     "execution_count": 34,
     "metadata": {},
     "output_type": "execute_result"
    }
   ],
   "source": [
    "df_regiao_imediata.head()"
   ]
  },
  {
   "cell_type": "code",
   "execution_count": 35,
   "metadata": {},
   "outputs": [
    {
     "name": "stdout",
     "output_type": "stream",
     "text": [
      "<class 'pandas.core.frame.DataFrame'>\n",
      "RangeIndex: 5570 entries, 0 to 5569\n",
      "Data columns (total 4 columns):\n",
      " #   Column             Non-Null Count  Dtype \n",
      "---  ------             --------------  ----- \n",
      " 0   geocod_imediata    5570 non-null   object\n",
      " 1   nome_geo_imediata  5570 non-null   object\n",
      " 2   geocod_muni        5570 non-null   object\n",
      " 3   nome_muni          5570 non-null   object\n",
      "dtypes: object(4)\n",
      "memory usage: 174.2+ KB\n"
     ]
    }
   ],
   "source": [
    "df_regiao_imediata.info()"
   ]
  },
  {
   "cell_type": "markdown",
   "metadata": {},
   "source": [
    "# 🎲 DIMENSAO MUNICIPIO"
   ]
  },
  {
   "cell_type": "markdown",
   "metadata": {},
   "source": [
    "[Fonte IBGE](https://www.ibge.gov.br/explica/codigos-dos-municipios.php)"
   ]
  },
  {
   "cell_type": "code",
   "execution_count": 36,
   "metadata": {},
   "outputs": [
    {
     "name": "stdout",
     "output_type": "stream",
     "text": [
      "WARNING *** OLE2 inconsistency: SSCS size is 0 but SSAT size is non-zero\n",
      "*** No CODEPAGE record, no encoding_override: will use 'iso-8859-1'\n"
     ]
    }
   ],
   "source": [
    "#intervalo2 = pd.read_excel(url_planilha, sheet_name='emissoes_C02', usecols= 'A:D', nrows=10)\n",
    "planilha_muni = r'C:\\Users\\carol\\OneDrive\\Estudos\\MBA Data Science\\TCC\\SINASC\\RELATORIO_DTB_BRASIL_MUNICIPIO.xls'\n",
    "\n",
    "cols = ['UF', 'Nome_UF', 'Município' ,'Código Município Completo', 'Nome_Município']\n",
    "df_muni = pd.read_excel(planilha_muni, sheet_name='DTB_2022_Municipio', usecols= cols, skiprows=6, nrows=5577)"
   ]
  },
  {
   "cell_type": "code",
   "execution_count": 37,
   "metadata": {},
   "outputs": [],
   "source": [
    "#renomeando colunas\n",
    "novo_nome = {\n",
    "    'UF': 'cod_uf',\n",
    "    'Nome_UF': 'uf',\n",
    "    'Município': 'cod_muni',\n",
    "    'Código Município Completo': 'cod_muni_completo',\n",
    "    'Nome_Município': 'nome_muni'\n",
    "}\n",
    "\n",
    "df_muni.rename(columns=novo_nome, inplace=True)"
   ]
  },
  {
   "cell_type": "code",
   "execution_count": 38,
   "metadata": {},
   "outputs": [],
   "source": [
    "#transformando col de cod para object\n",
    "col_object1 = ['cod_uf', 'cod_muni', 'cod_muni_completo']\n",
    "df_muni[col_object1] = df_muni[col_object1].astype(str)    "
   ]
  },
  {
   "cell_type": "code",
   "execution_count": 39,
   "metadata": {},
   "outputs": [],
   "source": [
    "#transformando chave muni\n",
    "df_muni['cod_muni'] = df_muni['cod_muni'].astype(str).str.pad(5, side = 'left', fillchar = '0')\n",
    "#retirando 1 caracter da coluna cod_municompleto\n",
    "df_muni['cod_muni_completo'] = df_muni['cod_muni_completo'].str.slice(0,6)"
   ]
  },
  {
   "cell_type": "code",
   "execution_count": 40,
   "metadata": {},
   "outputs": [],
   "source": [
    "#criando a coluna chave_pop\n",
    "df_muni['chave_pop'] = df_muni['cod_uf'].astype(str) + df_muni['cod_muni'].astype(str)"
   ]
  },
  {
   "cell_type": "code",
   "execution_count": 41,
   "metadata": {},
   "outputs": [],
   "source": [
    "#criando coluna de regiao\n",
    "\n",
    "# mapeia os estados para suas respectivas regiões\n",
    "regiao_por_estado = {\n",
    "    'Norte': ['Acre', 'Amapá', 'Amazonas', 'Pará', 'Rondônia', 'Roraima', 'Tocantins'],\n",
    "    'Nordeste': ['Alagoas', 'Bahia', 'Ceará', 'Maranhão', 'Paraíba', 'Pernambuco', 'Piauí', 'Rio Grande do Norte', 'Sergipe'],\n",
    "    'Centro-Oeste': ['Distrito Federal', 'Goiás', 'Mato Grosso', 'Mato Grosso do Sul'],\n",
    "    'Sudeste': ['Espírito Santo', 'Minas Gerais', 'Rio de Janeiro', 'São Paulo'],\n",
    "    'Sul': ['Paraná', 'Rio Grande do Sul', 'Santa Catarina']\n",
    "}\n",
    "\n",
    "# Função para mapear estados para regiões\n",
    "def mapear_regiao(uf):\n",
    "    for regiao, estados in regiao_por_estado.items():\n",
    "        if uf in estados:\n",
    "            return regiao\n",
    "    return None  # Retorna None se o estado não for encontrado\n",
    "\n",
    "#aplica na coluna\n",
    "df_muni['regiao'] = df_muni['uf'].apply(mapear_regiao)"
   ]
  },
  {
   "cell_type": "code",
   "execution_count": 42,
   "metadata": {},
   "outputs": [],
   "source": [
    "df_muni['chave_pop'] = df_muni['chave_pop'].astype(str).str.strip()\n",
    "#para garantir formato de coluna para join futuro"
   ]
  },
  {
   "cell_type": "code",
   "execution_count": 43,
   "metadata": {},
   "outputs": [
    {
     "name": "stdout",
     "output_type": "stream",
     "text": [
      "<class 'pandas.core.frame.DataFrame'>\n",
      "RangeIndex: 5570 entries, 0 to 5569\n",
      "Data columns (total 7 columns):\n",
      " #   Column             Non-Null Count  Dtype \n",
      "---  ------             --------------  ----- \n",
      " 0   cod_uf             5570 non-null   object\n",
      " 1   uf                 5570 non-null   object\n",
      " 2   cod_muni           5570 non-null   object\n",
      " 3   cod_muni_completo  5570 non-null   object\n",
      " 4   nome_muni          5570 non-null   object\n",
      " 5   chave_pop          5570 non-null   object\n",
      " 6   regiao             5570 non-null   object\n",
      "dtypes: object(7)\n",
      "memory usage: 304.7+ KB\n"
     ]
    }
   ],
   "source": [
    "df_muni.info()"
   ]
  },
  {
   "cell_type": "code",
   "execution_count": 44,
   "metadata": {},
   "outputs": [
    {
     "data": {
      "text/html": [
       "<div>\n",
       "<style scoped>\n",
       "    .dataframe tbody tr th:only-of-type {\n",
       "        vertical-align: middle;\n",
       "    }\n",
       "\n",
       "    .dataframe tbody tr th {\n",
       "        vertical-align: top;\n",
       "    }\n",
       "\n",
       "    .dataframe thead th {\n",
       "        text-align: right;\n",
       "    }\n",
       "</style>\n",
       "<table border=\"1\" class=\"dataframe\">\n",
       "  <thead>\n",
       "    <tr style=\"text-align: right;\">\n",
       "      <th></th>\n",
       "      <th>cod_uf</th>\n",
       "      <th>uf</th>\n",
       "      <th>cod_muni</th>\n",
       "      <th>cod_muni_completo</th>\n",
       "      <th>nome_muni</th>\n",
       "      <th>chave_pop</th>\n",
       "      <th>regiao</th>\n",
       "    </tr>\n",
       "  </thead>\n",
       "  <tbody>\n",
       "    <tr>\n",
       "      <th>0</th>\n",
       "      <td>11</td>\n",
       "      <td>Rondônia</td>\n",
       "      <td>00015</td>\n",
       "      <td>110001</td>\n",
       "      <td>Alta Floresta D'Oeste</td>\n",
       "      <td>1100015</td>\n",
       "      <td>Norte</td>\n",
       "    </tr>\n",
       "    <tr>\n",
       "      <th>1</th>\n",
       "      <td>11</td>\n",
       "      <td>Rondônia</td>\n",
       "      <td>00379</td>\n",
       "      <td>110037</td>\n",
       "      <td>Alto Alegre dos Parecis</td>\n",
       "      <td>1100379</td>\n",
       "      <td>Norte</td>\n",
       "    </tr>\n",
       "    <tr>\n",
       "      <th>2</th>\n",
       "      <td>11</td>\n",
       "      <td>Rondônia</td>\n",
       "      <td>00403</td>\n",
       "      <td>110040</td>\n",
       "      <td>Alto Paraíso</td>\n",
       "      <td>1100403</td>\n",
       "      <td>Norte</td>\n",
       "    </tr>\n",
       "    <tr>\n",
       "      <th>3</th>\n",
       "      <td>11</td>\n",
       "      <td>Rondônia</td>\n",
       "      <td>00346</td>\n",
       "      <td>110034</td>\n",
       "      <td>Alvorada D'Oeste</td>\n",
       "      <td>1100346</td>\n",
       "      <td>Norte</td>\n",
       "    </tr>\n",
       "    <tr>\n",
       "      <th>4</th>\n",
       "      <td>11</td>\n",
       "      <td>Rondônia</td>\n",
       "      <td>00023</td>\n",
       "      <td>110002</td>\n",
       "      <td>Ariquemes</td>\n",
       "      <td>1100023</td>\n",
       "      <td>Norte</td>\n",
       "    </tr>\n",
       "  </tbody>\n",
       "</table>\n",
       "</div>"
      ],
      "text/plain": [
       "  cod_uf        uf cod_muni cod_muni_completo                nome_muni  \\\n",
       "0     11  Rondônia    00015            110001    Alta Floresta D'Oeste   \n",
       "1     11  Rondônia    00379            110037  Alto Alegre dos Parecis   \n",
       "2     11  Rondônia    00403            110040             Alto Paraíso   \n",
       "3     11  Rondônia    00346            110034         Alvorada D'Oeste   \n",
       "4     11  Rondônia    00023            110002                Ariquemes   \n",
       "\n",
       "  chave_pop regiao  \n",
       "0   1100015  Norte  \n",
       "1   1100379  Norte  \n",
       "2   1100403  Norte  \n",
       "3   1100346  Norte  \n",
       "4   1100023  Norte  "
      ]
     },
     "execution_count": 44,
     "metadata": {},
     "output_type": "execute_result"
    }
   ],
   "source": [
    "df_muni.head()\n"
   ]
  },
  {
   "cell_type": "code",
   "execution_count": 45,
   "metadata": {},
   "outputs": [],
   "source": [
    "#agregando os dados de região imediata aos dados do município\n",
    "df_muni = df_muni.merge(df_regiao_imediata[['geocod_muni', 'geocod_imediata', 'nome_geo_imediata']], \n",
    "                                  left_on='chave_pop', right_on='geocod_muni', how='left')"
   ]
  },
  {
   "cell_type": "code",
   "execution_count": 46,
   "metadata": {},
   "outputs": [],
   "source": [
    "colunas_finais_ordenadas = [\n",
    "    'regiao', \n",
    "    'cod_uf', \n",
    "    'uf', \n",
    "    'geocod_imediata', \n",
    "    'nome_geo_imediata',\n",
    "    'cod_muni', \n",
    "    'cod_muni_completo', \n",
    "    'chave_pop', \n",
    "    'nome_muni'\n",
    "]\n",
    "df_muni = df_muni[colunas_finais_ordenadas]"
   ]
  },
  {
   "cell_type": "code",
   "execution_count": 47,
   "metadata": {},
   "outputs": [
    {
     "data": {
      "text/html": [
       "<div>\n",
       "<style scoped>\n",
       "    .dataframe tbody tr th:only-of-type {\n",
       "        vertical-align: middle;\n",
       "    }\n",
       "\n",
       "    .dataframe tbody tr th {\n",
       "        vertical-align: top;\n",
       "    }\n",
       "\n",
       "    .dataframe thead th {\n",
       "        text-align: right;\n",
       "    }\n",
       "</style>\n",
       "<table border=\"1\" class=\"dataframe\">\n",
       "  <thead>\n",
       "    <tr style=\"text-align: right;\">\n",
       "      <th></th>\n",
       "      <th>regiao</th>\n",
       "      <th>cod_uf</th>\n",
       "      <th>uf</th>\n",
       "      <th>geocod_imediata</th>\n",
       "      <th>nome_geo_imediata</th>\n",
       "      <th>cod_muni</th>\n",
       "      <th>cod_muni_completo</th>\n",
       "      <th>chave_pop</th>\n",
       "      <th>nome_muni</th>\n",
       "    </tr>\n",
       "  </thead>\n",
       "  <tbody>\n",
       "    <tr>\n",
       "      <th>0</th>\n",
       "      <td>Norte</td>\n",
       "      <td>11</td>\n",
       "      <td>Rondônia</td>\n",
       "      <td>110005</td>\n",
       "      <td>Cacoal</td>\n",
       "      <td>00015</td>\n",
       "      <td>110001</td>\n",
       "      <td>1100015</td>\n",
       "      <td>Alta Floresta D'Oeste</td>\n",
       "    </tr>\n",
       "    <tr>\n",
       "      <th>1</th>\n",
       "      <td>Norte</td>\n",
       "      <td>11</td>\n",
       "      <td>Rondônia</td>\n",
       "      <td>110005</td>\n",
       "      <td>Cacoal</td>\n",
       "      <td>00379</td>\n",
       "      <td>110037</td>\n",
       "      <td>1100379</td>\n",
       "      <td>Alto Alegre dos Parecis</td>\n",
       "    </tr>\n",
       "    <tr>\n",
       "      <th>2</th>\n",
       "      <td>Norte</td>\n",
       "      <td>11</td>\n",
       "      <td>Rondônia</td>\n",
       "      <td>110002</td>\n",
       "      <td>Ariquemes</td>\n",
       "      <td>00403</td>\n",
       "      <td>110040</td>\n",
       "      <td>1100403</td>\n",
       "      <td>Alto Paraíso</td>\n",
       "    </tr>\n",
       "    <tr>\n",
       "      <th>3</th>\n",
       "      <td>Norte</td>\n",
       "      <td>11</td>\n",
       "      <td>Rondônia</td>\n",
       "      <td>110004</td>\n",
       "      <td>Ji-Paraná</td>\n",
       "      <td>00346</td>\n",
       "      <td>110034</td>\n",
       "      <td>1100346</td>\n",
       "      <td>Alvorada D'Oeste</td>\n",
       "    </tr>\n",
       "    <tr>\n",
       "      <th>4</th>\n",
       "      <td>Norte</td>\n",
       "      <td>11</td>\n",
       "      <td>Rondônia</td>\n",
       "      <td>110002</td>\n",
       "      <td>Ariquemes</td>\n",
       "      <td>00023</td>\n",
       "      <td>110002</td>\n",
       "      <td>1100023</td>\n",
       "      <td>Ariquemes</td>\n",
       "    </tr>\n",
       "  </tbody>\n",
       "</table>\n",
       "</div>"
      ],
      "text/plain": [
       "  regiao cod_uf        uf geocod_imediata nome_geo_imediata cod_muni  \\\n",
       "0  Norte     11  Rondônia          110005            Cacoal    00015   \n",
       "1  Norte     11  Rondônia          110005            Cacoal    00379   \n",
       "2  Norte     11  Rondônia          110002         Ariquemes    00403   \n",
       "3  Norte     11  Rondônia          110004         Ji-Paraná    00346   \n",
       "4  Norte     11  Rondônia          110002         Ariquemes    00023   \n",
       "\n",
       "  cod_muni_completo chave_pop                nome_muni  \n",
       "0            110001   1100015    Alta Floresta D'Oeste  \n",
       "1            110037   1100379  Alto Alegre dos Parecis  \n",
       "2            110040   1100403             Alto Paraíso  \n",
       "3            110034   1100346         Alvorada D'Oeste  \n",
       "4            110002   1100023                Ariquemes  "
      ]
     },
     "execution_count": 47,
     "metadata": {},
     "output_type": "execute_result"
    }
   ],
   "source": [
    "df_muni.head(5)"
   ]
  },
  {
   "cell_type": "code",
   "execution_count": 48,
   "metadata": {},
   "outputs": [
    {
     "name": "stdout",
     "output_type": "stream",
     "text": [
      "<class 'pandas.core.frame.DataFrame'>\n",
      "RangeIndex: 5570 entries, 0 to 5569\n",
      "Data columns (total 9 columns):\n",
      " #   Column             Non-Null Count  Dtype \n",
      "---  ------             --------------  ----- \n",
      " 0   regiao             5570 non-null   object\n",
      " 1   cod_uf             5570 non-null   object\n",
      " 2   uf                 5570 non-null   object\n",
      " 3   geocod_imediata    5570 non-null   object\n",
      " 4   nome_geo_imediata  5570 non-null   object\n",
      " 5   cod_muni           5570 non-null   object\n",
      " 6   cod_muni_completo  5570 non-null   object\n",
      " 7   chave_pop          5570 non-null   object\n",
      " 8   nome_muni          5570 non-null   object\n",
      "dtypes: object(9)\n",
      "memory usage: 391.8+ KB\n"
     ]
    }
   ],
   "source": [
    "df_muni.info()"
   ]
  },
  {
   "cell_type": "markdown",
   "metadata": {},
   "source": [
    "## 🗺️ Dados de latlong"
   ]
  },
  {
   "cell_type": "code",
   "execution_count": 49,
   "metadata": {},
   "outputs": [],
   "source": [
    "url_latlong_csv = 'https://raw.githubusercontent.com/kelvins/municipios-brasileiros/refs/heads/main/csv/municipios.csv'\n",
    "df_latlong = pd.read_csv(url_latlong_csv)"
   ]
  },
  {
   "cell_type": "code",
   "execution_count": 50,
   "metadata": {},
   "outputs": [
    {
     "data": {
      "text/html": [
       "<div>\n",
       "<style scoped>\n",
       "    .dataframe tbody tr th:only-of-type {\n",
       "        vertical-align: middle;\n",
       "    }\n",
       "\n",
       "    .dataframe tbody tr th {\n",
       "        vertical-align: top;\n",
       "    }\n",
       "\n",
       "    .dataframe thead th {\n",
       "        text-align: right;\n",
       "    }\n",
       "</style>\n",
       "<table border=\"1\" class=\"dataframe\">\n",
       "  <thead>\n",
       "    <tr style=\"text-align: right;\">\n",
       "      <th></th>\n",
       "      <th>codigo_ibge</th>\n",
       "      <th>nome</th>\n",
       "      <th>latitude</th>\n",
       "      <th>longitude</th>\n",
       "      <th>capital</th>\n",
       "      <th>codigo_uf</th>\n",
       "      <th>siafi_id</th>\n",
       "      <th>ddd</th>\n",
       "      <th>fuso_horario</th>\n",
       "    </tr>\n",
       "  </thead>\n",
       "  <tbody>\n",
       "    <tr>\n",
       "      <th>0</th>\n",
       "      <td>5200050</td>\n",
       "      <td>Abadia de Goiás</td>\n",
       "      <td>-16.75730</td>\n",
       "      <td>-49.4412</td>\n",
       "      <td>0</td>\n",
       "      <td>52</td>\n",
       "      <td>1050</td>\n",
       "      <td>62</td>\n",
       "      <td>America/Sao_Paulo</td>\n",
       "    </tr>\n",
       "    <tr>\n",
       "      <th>1</th>\n",
       "      <td>3100104</td>\n",
       "      <td>Abadia dos Dourados</td>\n",
       "      <td>-18.48310</td>\n",
       "      <td>-47.3916</td>\n",
       "      <td>0</td>\n",
       "      <td>31</td>\n",
       "      <td>4001</td>\n",
       "      <td>34</td>\n",
       "      <td>America/Sao_Paulo</td>\n",
       "    </tr>\n",
       "    <tr>\n",
       "      <th>2</th>\n",
       "      <td>5200100</td>\n",
       "      <td>Abadiânia</td>\n",
       "      <td>-16.19700</td>\n",
       "      <td>-48.7057</td>\n",
       "      <td>0</td>\n",
       "      <td>52</td>\n",
       "      <td>9201</td>\n",
       "      <td>62</td>\n",
       "      <td>America/Sao_Paulo</td>\n",
       "    </tr>\n",
       "    <tr>\n",
       "      <th>3</th>\n",
       "      <td>3100203</td>\n",
       "      <td>Abaeté</td>\n",
       "      <td>-19.15510</td>\n",
       "      <td>-45.4444</td>\n",
       "      <td>0</td>\n",
       "      <td>31</td>\n",
       "      <td>4003</td>\n",
       "      <td>37</td>\n",
       "      <td>America/Sao_Paulo</td>\n",
       "    </tr>\n",
       "    <tr>\n",
       "      <th>4</th>\n",
       "      <td>1500107</td>\n",
       "      <td>Abaetetuba</td>\n",
       "      <td>-1.72183</td>\n",
       "      <td>-48.8788</td>\n",
       "      <td>0</td>\n",
       "      <td>15</td>\n",
       "      <td>401</td>\n",
       "      <td>91</td>\n",
       "      <td>America/Sao_Paulo</td>\n",
       "    </tr>\n",
       "  </tbody>\n",
       "</table>\n",
       "</div>"
      ],
      "text/plain": [
       "   codigo_ibge                 nome  latitude  longitude  capital  codigo_uf  \\\n",
       "0      5200050      Abadia de Goiás -16.75730   -49.4412        0         52   \n",
       "1      3100104  Abadia dos Dourados -18.48310   -47.3916        0         31   \n",
       "2      5200100            Abadiânia -16.19700   -48.7057        0         52   \n",
       "3      3100203               Abaeté -19.15510   -45.4444        0         31   \n",
       "4      1500107           Abaetetuba  -1.72183   -48.8788        0         15   \n",
       "\n",
       "   siafi_id  ddd       fuso_horario  \n",
       "0      1050   62  America/Sao_Paulo  \n",
       "1      4001   34  America/Sao_Paulo  \n",
       "2      9201   62  America/Sao_Paulo  \n",
       "3      4003   37  America/Sao_Paulo  \n",
       "4       401   91  America/Sao_Paulo  "
      ]
     },
     "execution_count": 50,
     "metadata": {},
     "output_type": "execute_result"
    }
   ],
   "source": [
    "df_latlong.head(5)"
   ]
  },
  {
   "cell_type": "code",
   "execution_count": 51,
   "metadata": {},
   "outputs": [
    {
     "name": "stdout",
     "output_type": "stream",
     "text": [
      "<class 'pandas.core.frame.DataFrame'>\n",
      "RangeIndex: 5570 entries, 0 to 5569\n",
      "Data columns (total 9 columns):\n",
      " #   Column        Non-Null Count  Dtype  \n",
      "---  ------        --------------  -----  \n",
      " 0   codigo_ibge   5570 non-null   int64  \n",
      " 1   nome          5570 non-null   object \n",
      " 2   latitude      5570 non-null   float64\n",
      " 3   longitude     5570 non-null   float64\n",
      " 4   capital       5570 non-null   int64  \n",
      " 5   codigo_uf     5570 non-null   int64  \n",
      " 6   siafi_id      5570 non-null   int64  \n",
      " 7   ddd           5570 non-null   int64  \n",
      " 8   fuso_horario  5570 non-null   object \n",
      "dtypes: float64(2), int64(5), object(2)\n",
      "memory usage: 391.8+ KB\n"
     ]
    }
   ],
   "source": [
    "df_latlong.info()"
   ]
  },
  {
   "cell_type": "code",
   "execution_count": 52,
   "metadata": {},
   "outputs": [],
   "source": [
    "#pegando as colunas necessárias e tratando a coluna do ibge para merge com d_muni\n",
    "df_latlong_trat = df_latlong[['codigo_ibge', 'latitude', 'longitude']].assign(\n",
    "    codigo_ibge=df_latlong['codigo_ibge'].astype(str).str[:6]\n",
    ")"
   ]
  },
  {
   "cell_type": "code",
   "execution_count": 53,
   "metadata": {},
   "outputs": [],
   "source": [
    "df_muni_latlong = df_muni.merge(\n",
    "    df_latlong_trat[['codigo_ibge', 'latitude', 'longitude']],\n",
    "    left_on='cod_muni_completo',\n",
    "    right_on='codigo_ibge',\n",
    "    how='left'\n",
    ")"
   ]
  },
  {
   "cell_type": "code",
   "execution_count": 54,
   "metadata": {},
   "outputs": [
    {
     "name": "stdout",
     "output_type": "stream",
     "text": [
      "<class 'pandas.core.frame.DataFrame'>\n",
      "RangeIndex: 5570 entries, 0 to 5569\n",
      "Data columns (total 12 columns):\n",
      " #   Column             Non-Null Count  Dtype  \n",
      "---  ------             --------------  -----  \n",
      " 0   regiao             5570 non-null   object \n",
      " 1   cod_uf             5570 non-null   object \n",
      " 2   uf                 5570 non-null   object \n",
      " 3   geocod_imediata    5570 non-null   object \n",
      " 4   nome_geo_imediata  5570 non-null   object \n",
      " 5   cod_muni           5570 non-null   object \n",
      " 6   cod_muni_completo  5570 non-null   object \n",
      " 7   chave_pop          5570 non-null   object \n",
      " 8   nome_muni          5570 non-null   object \n",
      " 9   codigo_ibge        5570 non-null   object \n",
      " 10  latitude           5570 non-null   float64\n",
      " 11  longitude          5570 non-null   float64\n",
      "dtypes: float64(2), object(10)\n",
      "memory usage: 522.3+ KB\n"
     ]
    }
   ],
   "source": [
    "df_muni_latlong.info()"
   ]
  },
  {
   "cell_type": "code",
   "execution_count": 55,
   "metadata": {},
   "outputs": [
    {
     "data": {
      "text/html": [
       "<div>\n",
       "<style scoped>\n",
       "    .dataframe tbody tr th:only-of-type {\n",
       "        vertical-align: middle;\n",
       "    }\n",
       "\n",
       "    .dataframe tbody tr th {\n",
       "        vertical-align: top;\n",
       "    }\n",
       "\n",
       "    .dataframe thead th {\n",
       "        text-align: right;\n",
       "    }\n",
       "</style>\n",
       "<table border=\"1\" class=\"dataframe\">\n",
       "  <thead>\n",
       "    <tr style=\"text-align: right;\">\n",
       "      <th></th>\n",
       "      <th>regiao</th>\n",
       "      <th>cod_uf</th>\n",
       "      <th>uf</th>\n",
       "      <th>geocod_imediata</th>\n",
       "      <th>nome_geo_imediata</th>\n",
       "      <th>cod_muni</th>\n",
       "      <th>cod_muni_completo</th>\n",
       "      <th>chave_pop</th>\n",
       "      <th>nome_muni</th>\n",
       "      <th>codigo_ibge</th>\n",
       "      <th>latitude</th>\n",
       "      <th>longitude</th>\n",
       "    </tr>\n",
       "  </thead>\n",
       "  <tbody>\n",
       "    <tr>\n",
       "      <th>0</th>\n",
       "      <td>Norte</td>\n",
       "      <td>11</td>\n",
       "      <td>Rondônia</td>\n",
       "      <td>110005</td>\n",
       "      <td>Cacoal</td>\n",
       "      <td>00015</td>\n",
       "      <td>110001</td>\n",
       "      <td>1100015</td>\n",
       "      <td>Alta Floresta D'Oeste</td>\n",
       "      <td>110001</td>\n",
       "      <td>-11.92830</td>\n",
       "      <td>-61.9953</td>\n",
       "    </tr>\n",
       "    <tr>\n",
       "      <th>1</th>\n",
       "      <td>Norte</td>\n",
       "      <td>11</td>\n",
       "      <td>Rondônia</td>\n",
       "      <td>110005</td>\n",
       "      <td>Cacoal</td>\n",
       "      <td>00379</td>\n",
       "      <td>110037</td>\n",
       "      <td>1100379</td>\n",
       "      <td>Alto Alegre dos Parecis</td>\n",
       "      <td>110037</td>\n",
       "      <td>-12.13200</td>\n",
       "      <td>-61.8350</td>\n",
       "    </tr>\n",
       "    <tr>\n",
       "      <th>2</th>\n",
       "      <td>Norte</td>\n",
       "      <td>11</td>\n",
       "      <td>Rondônia</td>\n",
       "      <td>110002</td>\n",
       "      <td>Ariquemes</td>\n",
       "      <td>00403</td>\n",
       "      <td>110040</td>\n",
       "      <td>1100403</td>\n",
       "      <td>Alto Paraíso</td>\n",
       "      <td>110040</td>\n",
       "      <td>-9.71429</td>\n",
       "      <td>-63.3188</td>\n",
       "    </tr>\n",
       "    <tr>\n",
       "      <th>3</th>\n",
       "      <td>Norte</td>\n",
       "      <td>11</td>\n",
       "      <td>Rondônia</td>\n",
       "      <td>110004</td>\n",
       "      <td>Ji-Paraná</td>\n",
       "      <td>00346</td>\n",
       "      <td>110034</td>\n",
       "      <td>1100346</td>\n",
       "      <td>Alvorada D'Oeste</td>\n",
       "      <td>110034</td>\n",
       "      <td>-11.34630</td>\n",
       "      <td>-62.2847</td>\n",
       "    </tr>\n",
       "    <tr>\n",
       "      <th>4</th>\n",
       "      <td>Norte</td>\n",
       "      <td>11</td>\n",
       "      <td>Rondônia</td>\n",
       "      <td>110002</td>\n",
       "      <td>Ariquemes</td>\n",
       "      <td>00023</td>\n",
       "      <td>110002</td>\n",
       "      <td>1100023</td>\n",
       "      <td>Ariquemes</td>\n",
       "      <td>110002</td>\n",
       "      <td>-9.90571</td>\n",
       "      <td>-63.0325</td>\n",
       "    </tr>\n",
       "  </tbody>\n",
       "</table>\n",
       "</div>"
      ],
      "text/plain": [
       "  regiao cod_uf        uf geocod_imediata nome_geo_imediata cod_muni  \\\n",
       "0  Norte     11  Rondônia          110005            Cacoal    00015   \n",
       "1  Norte     11  Rondônia          110005            Cacoal    00379   \n",
       "2  Norte     11  Rondônia          110002         Ariquemes    00403   \n",
       "3  Norte     11  Rondônia          110004         Ji-Paraná    00346   \n",
       "4  Norte     11  Rondônia          110002         Ariquemes    00023   \n",
       "\n",
       "  cod_muni_completo chave_pop                nome_muni codigo_ibge  latitude  \\\n",
       "0            110001   1100015    Alta Floresta D'Oeste      110001 -11.92830   \n",
       "1            110037   1100379  Alto Alegre dos Parecis      110037 -12.13200   \n",
       "2            110040   1100403             Alto Paraíso      110040  -9.71429   \n",
       "3            110034   1100346         Alvorada D'Oeste      110034 -11.34630   \n",
       "4            110002   1100023                Ariquemes      110002  -9.90571   \n",
       "\n",
       "   longitude  \n",
       "0   -61.9953  \n",
       "1   -61.8350  \n",
       "2   -63.3188  \n",
       "3   -62.2847  \n",
       "4   -63.0325  "
      ]
     },
     "execution_count": 55,
     "metadata": {},
     "output_type": "execute_result"
    }
   ],
   "source": [
    "df_muni_latlong.head(5)"
   ]
  },
  {
   "cell_type": "code",
   "execution_count": 56,
   "metadata": {},
   "outputs": [],
   "source": [
    "df_muni_latlong.to_csv('d_muni_latlong.csv', sep = ';', index=False)"
   ]
  },
  {
   "cell_type": "markdown",
   "metadata": {},
   "source": [
    "# 🎲 DIMENSÃO POPULAÇÃO RESIDENTE POR SEXO"
   ]
  },
  {
   "cell_type": "markdown",
   "metadata": {},
   "source": [
    "[Fonte IBGE Censo 2022](https://www.ibge.gov.br/estatisticas/sociais/populacao/22827-censo-demografico-2022.html?edicao=38166&t=resultados)"
   ]
  },
  {
   "cell_type": "markdown",
   "metadata": {},
   "source": [
    "Através da pesquisa [dos municípios que compõe a região imediata Valença do Rio de Janeiro e Bahia e Região Itabaiana da Paraíba e Sergipe](https://www.ibge.gov.br/estatisticas/sociais/populacao/22827-censo-demografico-2022.html?edicao=38166&t=resultados) no [levantamento de estimativa de População por Município de 2024 do IBGE](https://www.ibge.gov.br/estatisticas/sociais/populacao/9103-estimativas-de-populacao.html?edicao=41105&t=resultados) temos que:\n",
    "| geocod_imediata | nome_geo_imediata | uf            | estimativa_pop_2024 | pop_residente_2022 |\n",
    "|---------------------|-------------------|---------------|---------------------|--------------------------|\n",
    "| 250004              | Itabaiana          | Paraíba       | 64.875              | 63.422                   |\n",
    "| 280004              | Itabaiana          | Sergipe       | 241.769             | 252.041                  |\n",
    "| 290005              | Valença            | Bahia         | 236.448             | 226.779                  |\n",
    "| 330006              | Valença            | Rio de Janeiro| 176.098             | 167.219                  |\n"
   ]
  },
  {
   "cell_type": "code",
   "execution_count": 57,
   "metadata": {},
   "outputs": [],
   "source": [
    "def trata_dados_populacao(file_path, usecols, sexo):\n",
    "    # Importar planilha\n",
    "    df = pd.read_excel(file_path, sheet_name=0, usecols=usecols, skiprows=5)\n",
    "    \n",
    "    # Renomear a coluna de 'Região Geográfica Imediata' para nome_geo_imediata\n",
    "    df.columns = ['nome_geo_imediata'] + df.columns[1:].tolist()\n",
    "    \n",
    "    # Substituir caractere ' por ` para uniformidade\n",
    "    df['nome_geo_imediata'] = df['nome_geo_imediata'].str.replace(\"'\", \"´\")\n",
    "\n",
    "\n",
    "    # Função para definir a coluna geo_cod_imediata_setada\n",
    "    def set_geo_cod_imediata(row):\n",
    "        if row.name == 135:\n",
    "            return 250004\n",
    "        elif row.name == 179:\n",
    "            return 280004\n",
    "        elif row.name == 186:\n",
    "            return 290005\n",
    "        elif row.name == 299:\n",
    "            return 330006\n",
    "        else:\n",
    "            return None\n",
    "        \n",
    "    df['geocod_imediata'] = df.apply(set_geo_cod_imediata, axis=1)\n",
    "    df['geocod_imediata'] = df['geocod_imediata'].fillna(0)\n",
    "    df['geocod_imediata'] = df['geocod_imediata'].astype(str).str.replace('.0', '', regex=False).astype(int)\n",
    "    \n",
    "    # Transformar os dados (descer as colunas de faixa_etária)\n",
    "    df_long = df.melt(id_vars=['nome_geo_imediata', 'geocod_imediata'], var_name='faixa_idade', value_name='pop_residente')\n",
    "    \n",
    "    # Ajustar a coluna faixa_idade\n",
    "    df_long['faixa_idade'] = df_long['faixa_idade'].str.replace(r' anos.*', '', regex=True)\n",
    "\n",
    "    # Preencher e ajustar os valores de pop_residente\n",
    "    df_long['pop_residente'] = df_long['pop_residente'].fillna(0)\n",
    "    df_long['pop_residente'] = df_long['pop_residente'].replace('-', '0')\n",
    "    df_long['pop_residente'] = df_long['pop_residente'].astype(str).str.replace('.0', '', regex=False).astype(int)\n",
    "\n",
    "    # Adicionar colunas extras de ano e sexo\n",
    "    df_long['ano'] = 2022\n",
    "    df_long['sexo'] = sexo\n",
    "    \n",
    "    # Reordenar colunas\n",
    "    df_long = df_long[['ano', 'sexo', 'nome_geo_imediata', 'geocod_imediata', 'faixa_idade', 'pop_residente']]\n",
    "    \n",
    "    return df_long"
   ]
  },
  {
   "cell_type": "code",
   "execution_count": 58,
   "metadata": {},
   "outputs": [],
   "source": [
    "planilha_censo_2022 = r'C:\\Users\\carol\\OneDrive\\Estudos\\MBA Data Science\\TCC\\SINASC\\tabela9514_grupo_idade_RGI.xlsx'"
   ]
  },
  {
   "cell_type": "code",
   "execution_count": 59,
   "metadata": {},
   "outputs": [],
   "source": [
    "homens_long = trata_dados_populacao(planilha_censo_2022, 'A,Z:AT', 'M')\n",
    "mulheres_long = trata_dados_populacao(planilha_censo_2022, 'A,AV:BP', 'F')\n",
    "pop_residente_sexo = pd.concat([homens_long, mulheres_long])\n",
    "pop_residente_sexo = pop_residente_sexo[pop_residente_sexo['nome_geo_imediata'] != 'Fonte: IBGE - Censo Demográfico']\n",
    "pop_residente_sexo = pop_residente_sexo[['ano', 'sexo', 'nome_geo_imediata', 'faixa_idade', 'pop_residente', 'geocod_imediata']]"
   ]
  },
  {
   "cell_type": "code",
   "execution_count": 60,
   "metadata": {},
   "outputs": [],
   "source": [
    "#quebrando os dfs para o tratamento dos duplicados:\n",
    "pop_residente_sexo_setado = pop_residente_sexo[pop_residente_sexo['nome_geo_imediata'].isin(['Valença', 'Itabaiana'])]\n",
    "\n",
    "pop_residente_sexo_geral = pop_residente_sexo[\n",
    "    ~pop_residente_sexo['nome_geo_imediata'].isin(['Valença', 'Itabaiana'])\n",
    "][['ano', 'sexo', 'nome_geo_imediata', 'faixa_idade', 'pop_residente']]"
   ]
  },
  {
   "cell_type": "code",
   "execution_count": 61,
   "metadata": {},
   "outputs": [],
   "source": [
    "pop_residente_sexo_geral = pop_residente_sexo_geral.merge(df_regiao_imediata[['nome_geo_imediata', 'geocod_imediata']].drop_duplicates(),\n",
    "                                                          on='nome_geo_imediata', how='left')"
   ]
  },
  {
   "cell_type": "code",
   "execution_count": 62,
   "metadata": {},
   "outputs": [],
   "source": [
    "pop_residente_sexo = pd.concat([pop_residente_sexo_geral, pop_residente_sexo_setado])"
   ]
  },
  {
   "cell_type": "code",
   "execution_count": 63,
   "metadata": {},
   "outputs": [
    {
     "name": "stdout",
     "output_type": "stream",
     "text": [
      "<class 'pandas.core.frame.DataFrame'>\n",
      "Index: 21420 entries, 0 to 10519\n",
      "Data columns (total 6 columns):\n",
      " #   Column             Non-Null Count  Dtype \n",
      "---  ------             --------------  ----- \n",
      " 0   ano                21420 non-null  int64 \n",
      " 1   sexo               21420 non-null  object\n",
      " 2   nome_geo_imediata  21420 non-null  object\n",
      " 3   faixa_idade        21420 non-null  object\n",
      " 4   pop_residente      21420 non-null  int32 \n",
      " 5   geocod_imediata    21420 non-null  object\n",
      "dtypes: int32(1), int64(1), object(4)\n",
      "memory usage: 1.1+ MB\n"
     ]
    }
   ],
   "source": [
    "pop_residente_sexo.info()"
   ]
  },
  {
   "cell_type": "code",
   "execution_count": 64,
   "metadata": {},
   "outputs": [
    {
     "data": {
      "text/html": [
       "<div>\n",
       "<style scoped>\n",
       "    .dataframe tbody tr th:only-of-type {\n",
       "        vertical-align: middle;\n",
       "    }\n",
       "\n",
       "    .dataframe tbody tr th {\n",
       "        vertical-align: top;\n",
       "    }\n",
       "\n",
       "    .dataframe thead th {\n",
       "        text-align: right;\n",
       "    }\n",
       "</style>\n",
       "<table border=\"1\" class=\"dataframe\">\n",
       "  <thead>\n",
       "    <tr style=\"text-align: right;\">\n",
       "      <th></th>\n",
       "      <th>ano</th>\n",
       "      <th>sexo</th>\n",
       "      <th>nome_geo_imediata</th>\n",
       "      <th>faixa_idade</th>\n",
       "      <th>pop_residente</th>\n",
       "      <th>geocod_imediata</th>\n",
       "    </tr>\n",
       "  </thead>\n",
       "  <tbody>\n",
       "    <tr>\n",
       "      <th>0</th>\n",
       "      <td>2022</td>\n",
       "      <td>M</td>\n",
       "      <td>Porto Velho</td>\n",
       "      <td>0 a 4</td>\n",
       "      <td>20620</td>\n",
       "      <td>110001</td>\n",
       "    </tr>\n",
       "    <tr>\n",
       "      <th>1</th>\n",
       "      <td>2022</td>\n",
       "      <td>M</td>\n",
       "      <td>Ariquemes</td>\n",
       "      <td>0 a 4</td>\n",
       "      <td>6877</td>\n",
       "      <td>110002</td>\n",
       "    </tr>\n",
       "    <tr>\n",
       "      <th>2</th>\n",
       "      <td>2022</td>\n",
       "      <td>M</td>\n",
       "      <td>Jaru</td>\n",
       "      <td>0 a 4</td>\n",
       "      <td>3868</td>\n",
       "      <td>110003</td>\n",
       "    </tr>\n",
       "    <tr>\n",
       "      <th>3</th>\n",
       "      <td>2022</td>\n",
       "      <td>M</td>\n",
       "      <td>Ji-Paraná</td>\n",
       "      <td>0 a 4</td>\n",
       "      <td>10402</td>\n",
       "      <td>110004</td>\n",
       "    </tr>\n",
       "    <tr>\n",
       "      <th>4</th>\n",
       "      <td>2022</td>\n",
       "      <td>M</td>\n",
       "      <td>Cacoal</td>\n",
       "      <td>0 a 4</td>\n",
       "      <td>10202</td>\n",
       "      <td>110005</td>\n",
       "    </tr>\n",
       "  </tbody>\n",
       "</table>\n",
       "</div>"
      ],
      "text/plain": [
       "    ano sexo nome_geo_imediata faixa_idade  pop_residente geocod_imediata\n",
       "0  2022    M       Porto Velho       0 a 4          20620          110001\n",
       "1  2022    M         Ariquemes       0 a 4           6877          110002\n",
       "2  2022    M              Jaru       0 a 4           3868          110003\n",
       "3  2022    M         Ji-Paraná       0 a 4          10402          110004\n",
       "4  2022    M            Cacoal       0 a 4          10202          110005"
      ]
     },
     "execution_count": 64,
     "metadata": {},
     "output_type": "execute_result"
    }
   ],
   "source": [
    "pop_residente_sexo.head(5)"
   ]
  },
  {
   "cell_type": "code",
   "execution_count": 65,
   "metadata": {},
   "outputs": [],
   "source": [
    "colunas_finais_ordenadas = [\n",
    "    'ano',\n",
    "    'sexo',\n",
    "    'geocod_imediata',\n",
    "    'faixa_idade',\n",
    "    'pop_residente'\n",
    "]\n",
    "pop_residente_sexo = pop_residente_sexo[colunas_finais_ordenadas]"
   ]
  },
  {
   "cell_type": "code",
   "execution_count": 66,
   "metadata": {},
   "outputs": [
    {
     "data": {
      "text/html": [
       "<div>\n",
       "<style scoped>\n",
       "    .dataframe tbody tr th:only-of-type {\n",
       "        vertical-align: middle;\n",
       "    }\n",
       "\n",
       "    .dataframe tbody tr th {\n",
       "        vertical-align: top;\n",
       "    }\n",
       "\n",
       "    .dataframe thead th {\n",
       "        text-align: right;\n",
       "    }\n",
       "</style>\n",
       "<table border=\"1\" class=\"dataframe\">\n",
       "  <thead>\n",
       "    <tr style=\"text-align: right;\">\n",
       "      <th></th>\n",
       "      <th>ano</th>\n",
       "      <th>sexo</th>\n",
       "      <th>geocod_imediata</th>\n",
       "      <th>faixa_idade</th>\n",
       "      <th>pop_residente</th>\n",
       "    </tr>\n",
       "  </thead>\n",
       "  <tbody>\n",
       "    <tr>\n",
       "      <th>0</th>\n",
       "      <td>2022</td>\n",
       "      <td>M</td>\n",
       "      <td>110001</td>\n",
       "      <td>0 a 4</td>\n",
       "      <td>20620</td>\n",
       "    </tr>\n",
       "    <tr>\n",
       "      <th>1</th>\n",
       "      <td>2022</td>\n",
       "      <td>M</td>\n",
       "      <td>110002</td>\n",
       "      <td>0 a 4</td>\n",
       "      <td>6877</td>\n",
       "    </tr>\n",
       "    <tr>\n",
       "      <th>2</th>\n",
       "      <td>2022</td>\n",
       "      <td>M</td>\n",
       "      <td>110003</td>\n",
       "      <td>0 a 4</td>\n",
       "      <td>3868</td>\n",
       "    </tr>\n",
       "    <tr>\n",
       "      <th>3</th>\n",
       "      <td>2022</td>\n",
       "      <td>M</td>\n",
       "      <td>110004</td>\n",
       "      <td>0 a 4</td>\n",
       "      <td>10402</td>\n",
       "    </tr>\n",
       "    <tr>\n",
       "      <th>4</th>\n",
       "      <td>2022</td>\n",
       "      <td>M</td>\n",
       "      <td>110005</td>\n",
       "      <td>0 a 4</td>\n",
       "      <td>10202</td>\n",
       "    </tr>\n",
       "  </tbody>\n",
       "</table>\n",
       "</div>"
      ],
      "text/plain": [
       "    ano sexo geocod_imediata faixa_idade  pop_residente\n",
       "0  2022    M          110001       0 a 4          20620\n",
       "1  2022    M          110002       0 a 4           6877\n",
       "2  2022    M          110003       0 a 4           3868\n",
       "3  2022    M          110004       0 a 4          10402\n",
       "4  2022    M          110005       0 a 4          10202"
      ]
     },
     "execution_count": 66,
     "metadata": {},
     "output_type": "execute_result"
    }
   ],
   "source": [
    "pop_residente_sexo.head(5)"
   ]
  },
  {
   "cell_type": "code",
   "execution_count": 67,
   "metadata": {},
   "outputs": [],
   "source": [
    "pop_residente_sexo.to_csv('d_pop_residente.csv', sep = ';', index=False)"
   ]
  },
  {
   "cell_type": "markdown",
   "metadata": {},
   "source": [
    "# 🎲 DIMENSÃO POPULAÇÃO\n",
    "\n",
    "[Fonte IBGE](https://www.ibge.gov.br/estatisticas/sociais/populacao/9103-estimativas-de-populacao.html?edicao=31451)"
   ]
  },
  {
   "cell_type": "code",
   "execution_count": 68,
   "metadata": {},
   "outputs": [],
   "source": [
    "planilha_pop = r'C:\\Users\\carol\\OneDrive\\Estudos\\MBA Data Science\\TCC\\SINASC\\POP2021_20230710.xls'\n",
    "cols = ['COD. UF', 'COD. MUNIC', 'POPULAÇÃO ESTIMADA']\n",
    "df_pop = pd.read_excel(planilha_pop, sheet_name='Municípios', usecols= cols, skiprows=1, nrows=5572)"
   ]
  },
  {
   "cell_type": "code",
   "execution_count": 69,
   "metadata": {},
   "outputs": [],
   "source": [
    "#renomeando colunas\n",
    "novo_nome = {\n",
    "    'COD. UF': 'cod_uf',\n",
    "    'COD. MUNIC': 'cod_muni',\n",
    "    'POPULAÇÃO ESTIMADA': 'pop_estimada'\n",
    "}\n",
    "\n",
    "df_pop.rename(columns=novo_nome, inplace=True)"
   ]
  },
  {
   "cell_type": "code",
   "execution_count": 70,
   "metadata": {},
   "outputs": [],
   "source": [
    "#alterando tipo de colunas\n",
    "#transformando col de cod para object\n",
    "col_object1 = ['cod_uf', 'cod_muni']\n",
    "df_pop[col_object1] = df_pop[col_object1].fillna(0).astype(int).astype(str)"
   ]
  },
  {
   "cell_type": "code",
   "execution_count": 71,
   "metadata": {},
   "outputs": [],
   "source": [
    "#acrescentando zeros à esquerda do código do municipio\n",
    "df_pop['cod_muni'] = df_pop['cod_muni'].str.pad(5, side = 'left', fillchar = '0')"
   ]
  },
  {
   "cell_type": "code",
   "execution_count": 72,
   "metadata": {},
   "outputs": [],
   "source": [
    "#tirando . e ou vírgula dos campos\n",
    "def limpar_string(texto):\n",
    "    # Verificar se o valor é uma string\n",
    "    if isinstance(texto, str):\n",
    "        # Define o padrão regex para encontrar parênteses e seu conteúdo\n",
    "        padrao = r'\\([^)]*\\)'\n",
    "        \n",
    "        # Substitui o padrão por uma string vazia\n",
    "        texto_limpo = re.sub(padrao, '', texto)\n",
    "        \n",
    "        # Remove pontos e vírgulas\n",
    "        texto_limpo = texto_limpo.replace('.', '').replace(',', '')\n",
    "        \n",
    "        return texto_limpo\n",
    "    else:\n",
    "        return texto\n",
    "\n",
    "df_pop['pop_estimada'] = df_pop['pop_estimada'].apply(limpar_string)"
   ]
  },
  {
   "cell_type": "code",
   "execution_count": 73,
   "metadata": {},
   "outputs": [],
   "source": [
    "#transformando a coluna de população para int\n",
    "df_pop['pop_estimada'] = df_pop['pop_estimada'].fillna(0).astype(int)"
   ]
  },
  {
   "cell_type": "code",
   "execution_count": 74,
   "metadata": {},
   "outputs": [],
   "source": [
    "#criando nova coluna chave\n",
    "df_pop['chave_pop'] = df_pop['cod_uf'].astype(str) + df_pop['cod_muni'].astype(str)"
   ]
  },
  {
   "cell_type": "code",
   "execution_count": 75,
   "metadata": {},
   "outputs": [
    {
     "data": {
      "text/html": [
       "<div>\n",
       "<style scoped>\n",
       "    .dataframe tbody tr th:only-of-type {\n",
       "        vertical-align: middle;\n",
       "    }\n",
       "\n",
       "    .dataframe tbody tr th {\n",
       "        vertical-align: top;\n",
       "    }\n",
       "\n",
       "    .dataframe thead th {\n",
       "        text-align: right;\n",
       "    }\n",
       "</style>\n",
       "<table border=\"1\" class=\"dataframe\">\n",
       "  <thead>\n",
       "    <tr style=\"text-align: right;\">\n",
       "      <th></th>\n",
       "      <th>cod_uf</th>\n",
       "      <th>cod_muni</th>\n",
       "      <th>pop_estimada</th>\n",
       "      <th>chave_pop</th>\n",
       "    </tr>\n",
       "  </thead>\n",
       "  <tbody>\n",
       "    <tr>\n",
       "      <th>0</th>\n",
       "      <td>11</td>\n",
       "      <td>00015</td>\n",
       "      <td>22516</td>\n",
       "      <td>1100015</td>\n",
       "    </tr>\n",
       "    <tr>\n",
       "      <th>1</th>\n",
       "      <td>11</td>\n",
       "      <td>00023</td>\n",
       "      <td>111148</td>\n",
       "      <td>1100023</td>\n",
       "    </tr>\n",
       "    <tr>\n",
       "      <th>2</th>\n",
       "      <td>11</td>\n",
       "      <td>00031</td>\n",
       "      <td>5067</td>\n",
       "      <td>1100031</td>\n",
       "    </tr>\n",
       "    <tr>\n",
       "      <th>3</th>\n",
       "      <td>11</td>\n",
       "      <td>00049</td>\n",
       "      <td>86416</td>\n",
       "      <td>1100049</td>\n",
       "    </tr>\n",
       "    <tr>\n",
       "      <th>4</th>\n",
       "      <td>11</td>\n",
       "      <td>00056</td>\n",
       "      <td>16088</td>\n",
       "      <td>1100056</td>\n",
       "    </tr>\n",
       "  </tbody>\n",
       "</table>\n",
       "</div>"
      ],
      "text/plain": [
       "  cod_uf cod_muni  pop_estimada chave_pop\n",
       "0     11    00015         22516   1100015\n",
       "1     11    00023        111148   1100023\n",
       "2     11    00031          5067   1100031\n",
       "3     11    00049         86416   1100049\n",
       "4     11    00056         16088   1100056"
      ]
     },
     "execution_count": 75,
     "metadata": {},
     "output_type": "execute_result"
    }
   ],
   "source": [
    "df_pop.head()"
   ]
  },
  {
   "cell_type": "code",
   "execution_count": 76,
   "metadata": {},
   "outputs": [
    {
     "name": "stdout",
     "output_type": "stream",
     "text": [
      "<class 'pandas.core.frame.DataFrame'>\n",
      "RangeIndex: 5572 entries, 0 to 5571\n",
      "Data columns (total 4 columns):\n",
      " #   Column        Non-Null Count  Dtype \n",
      "---  ------        --------------  ----- \n",
      " 0   cod_uf        5572 non-null   object\n",
      " 1   cod_muni      5572 non-null   object\n",
      " 2   pop_estimada  5572 non-null   int32 \n",
      " 3   chave_pop     5572 non-null   object\n",
      "dtypes: int32(1), object(3)\n",
      "memory usage: 152.5+ KB\n"
     ]
    }
   ],
   "source": [
    "df_pop.info()"
   ]
  },
  {
   "cell_type": "code",
   "execution_count": 77,
   "metadata": {},
   "outputs": [],
   "source": [
    "df_pop.to_csv('d_pop.csv', sep = ';', index=False)"
   ]
  },
  {
   "cell_type": "markdown",
   "metadata": {},
   "source": [
    "# 🎲 DIMENSAO ESTABELECIMENTOS"
   ]
  },
  {
   "cell_type": "markdown",
   "metadata": {},
   "source": [
    "[Fonte CNES DataSus](https://cnes.datasus.gov.br/pages/downloads/arquivosBaseDados.jsp)"
   ]
  },
  {
   "cell_type": "code",
   "execution_count": 78,
   "metadata": {},
   "outputs": [],
   "source": [
    "cols = ['CO_CNES','CO_IBGE','NO_RAZAO_SOCIAL','NO_FANTASIA','TP_GESTAO','NU_LATITUDE','NU_LONGITUDE','DS_TURNO_ATENDIMENTO','CO_NATUREZA_JUR','ST_CENTRO_CIRURGICO','ST_CENTRO_OBSTETRICO','ST_CENTRO_NEONATAL','ST_ATEND_HOSPITALAR','ST_ATEND_AMBULATORIAL','CO_AMBULATORIAL_SUS']\n",
    "\n",
    "planilha_estab = r'C:\\Users\\carol\\OneDrive\\Estudos\\MBA Data Science\\TCC\\SINASC\\cnes_estabelecimentos.csv'\n",
    "df_estab = pd.read_csv(planilha_estab, usecols= cols, sep =';', encoding='ISO-8859-1')"
   ]
  },
  {
   "cell_type": "code",
   "execution_count": 79,
   "metadata": {},
   "outputs": [],
   "source": [
    "#renomeando colunas\n",
    "novo_nome = {\n",
    "\n",
    "    'CO_CNES': 'co_cnes',\n",
    "    'CO_IBGE': 'co_ibge',\n",
    "    'NO_RAZAO_SOCIAL': 'no_razao_social',\n",
    "    'NO_FANTASIA': 'no_fantasia',\n",
    "    'TP_GESTAO': 'tp_gestao',\n",
    "    'NU_LATITUDE': 'nu_latitude',\n",
    "    'NU_LONGITUDE': 'nu_longitude',\n",
    "    'DS_TURNO_ATENDIMENTO': 'ds_turno_atendimento',\n",
    "    'CO_NATUREZA_JUR': 'co_natureza_jur',\n",
    "    'ST_CENTRO_CIRURGICO': 'st_centro_cirurgico',\n",
    "    'ST_CENTRO_OBSTETRICO': 'st_centro_obstetrico',\n",
    "    'ST_CENTRO_NEONATAL': 'st_centro_neonatal',\n",
    "    'ST_ATEND_HOSPITALAR': 'st_atend_hospitalar',\n",
    "    'ST_ATEND_AMBULATORIAL': 'st_atend_ambulatorial',\n",
    "    'CO_AMBULATORIAL_SUS': 'co_ambulatorial_sus'\n",
    "    \n",
    "}\n",
    "\n",
    "df_estab.rename(columns=novo_nome, inplace=True)"
   ]
  },
  {
   "cell_type": "code",
   "execution_count": 80,
   "metadata": {},
   "outputs": [
    {
     "name": "stdout",
     "output_type": "stream",
     "text": [
      "<class 'pandas.core.frame.DataFrame'>\n",
      "RangeIndex: 513211 entries, 0 to 513210\n",
      "Data columns (total 15 columns):\n",
      " #   Column                 Non-Null Count   Dtype  \n",
      "---  ------                 --------------   -----  \n",
      " 0   co_cnes                513211 non-null  int64  \n",
      " 1   co_ibge                513211 non-null  int64  \n",
      " 2   no_razao_social        513209 non-null  object \n",
      " 3   no_fantasia            513146 non-null  object \n",
      " 4   tp_gestao              513211 non-null  object \n",
      " 5   nu_latitude            448229 non-null  float64\n",
      " 6   nu_longitude           448260 non-null  float64\n",
      " 7   ds_turno_atendimento   511747 non-null  object \n",
      " 8   co_natureza_jur        513207 non-null  float64\n",
      " 9   st_centro_cirurgico    473356 non-null  float64\n",
      " 10  st_centro_obstetrico   473356 non-null  float64\n",
      " 11  st_centro_neonatal     473356 non-null  float64\n",
      " 12  st_atend_hospitalar    473356 non-null  float64\n",
      " 13  st_atend_ambulatorial  513211 non-null  float64\n",
      " 14  co_ambulatorial_sus    513211 non-null  object \n",
      "dtypes: float64(8), int64(2), object(5)\n",
      "memory usage: 58.7+ MB\n"
     ]
    }
   ],
   "source": [
    "df_estab.info()"
   ]
  },
  {
   "cell_type": "code",
   "execution_count": 81,
   "metadata": {},
   "outputs": [],
   "source": [
    "df_estab['co_natureza_jur'] = df_estab['co_natureza_jur'].fillna(0).astype(int)\n",
    "\n",
    "col_object = ['co_cnes','co_ibge','no_razao_social','no_fantasia','tp_gestao','ds_turno_atendimento','co_natureza_jur','st_centro_cirurgico','st_centro_obstetrico','st_centro_neonatal','st_atend_hospitalar','st_atend_ambulatorial','co_ambulatorial_sus']\n",
    "df_estab[col_object] = df_estab[col_object].astype(str)"
   ]
  },
  {
   "cell_type": "code",
   "execution_count": 82,
   "metadata": {},
   "outputs": [],
   "source": [
    "#nova coluna de natureza do estabelecimento\n",
    "df_estab['co_natureza_jur_agg'] = df_estab['co_natureza_jur'].str.slice(0,1)"
   ]
  },
  {
   "cell_type": "markdown",
   "metadata": {},
   "source": [
    "[Link da regra de natureza jurídica](https://concla.ibge.gov.br/estrutura/natjur-estrutura/natureza-juridica-2021.html)"
   ]
  },
  {
   "cell_type": "code",
   "execution_count": 83,
   "metadata": {},
   "outputs": [],
   "source": [
    "#trazendo a marcação da categoria no df seguinto clasificação do ibge\n",
    "mapeamento = {'1': 'administracao publica', '2':'entidades empresariais', '3':'entidades sem fins lucrativos', '4':'pessoas físicas', '5': 'organizações internacionais e outras instituições extraterritoriais' }\n",
    "df_estab['classe_natureza'] = df_estab['co_natureza_jur_agg'].map(mapeamento).fillna('sem info')"
   ]
  },
  {
   "cell_type": "code",
   "execution_count": 84,
   "metadata": {},
   "outputs": [
    {
     "data": {
      "text/html": [
       "<div>\n",
       "<style scoped>\n",
       "    .dataframe tbody tr th:only-of-type {\n",
       "        vertical-align: middle;\n",
       "    }\n",
       "\n",
       "    .dataframe tbody tr th {\n",
       "        vertical-align: top;\n",
       "    }\n",
       "\n",
       "    .dataframe thead th {\n",
       "        text-align: right;\n",
       "    }\n",
       "</style>\n",
       "<table border=\"1\" class=\"dataframe\">\n",
       "  <thead>\n",
       "    <tr style=\"text-align: right;\">\n",
       "      <th></th>\n",
       "      <th>0</th>\n",
       "      <th>1</th>\n",
       "      <th>2</th>\n",
       "      <th>3</th>\n",
       "      <th>4</th>\n",
       "    </tr>\n",
       "  </thead>\n",
       "  <tbody>\n",
       "    <tr>\n",
       "      <th>co_cnes</th>\n",
       "      <td>19</td>\n",
       "      <td>27</td>\n",
       "      <td>35</td>\n",
       "      <td>43</td>\n",
       "      <td>51</td>\n",
       "    </tr>\n",
       "    <tr>\n",
       "      <th>co_ibge</th>\n",
       "      <td>260290</td>\n",
       "      <td>260290</td>\n",
       "      <td>260290</td>\n",
       "      <td>260290</td>\n",
       "      <td>260290</td>\n",
       "    </tr>\n",
       "    <tr>\n",
       "      <th>no_razao_social</th>\n",
       "      <td>PREFEITURA MUNICIPAL DO CABO DE SANTO AGOSTINHO</td>\n",
       "      <td>CASA DE SAUDE E MATERNIDADE SANTA HELENA LTDA</td>\n",
       "      <td>PREFEITURA MUNICIPAL DO CABO DE SANTO AGOSTINHO</td>\n",
       "      <td>PREFEITURA MUNICIPAL DO CABO DE SANTO AGOSTINHO</td>\n",
       "      <td>PREFEITURA MUNICIPAL DO CABO DE SANTO AGOSTINHO</td>\n",
       "    </tr>\n",
       "    <tr>\n",
       "      <th>no_fantasia</th>\n",
       "      <td>POLICLINICA DR JAMACI DE MEDEIROS</td>\n",
       "      <td>CASA DE SAUDE SANTA HELENA</td>\n",
       "      <td>HOSPITAL MENDO SAMPAIO</td>\n",
       "      <td>POLICLINICA DR MANUEL GOMES</td>\n",
       "      <td>POLICLINICA VICENTE MENDES</td>\n",
       "    </tr>\n",
       "    <tr>\n",
       "      <th>tp_gestao</th>\n",
       "      <td>M</td>\n",
       "      <td>M</td>\n",
       "      <td>M</td>\n",
       "      <td>M</td>\n",
       "      <td>M</td>\n",
       "    </tr>\n",
       "    <tr>\n",
       "      <th>nu_latitude</th>\n",
       "      <td>-8.23166</td>\n",
       "      <td>-8.287</td>\n",
       "      <td>-8.287</td>\n",
       "      <td>-8.28765</td>\n",
       "      <td>-8.287</td>\n",
       "    </tr>\n",
       "    <tr>\n",
       "      <th>nu_longitude</th>\n",
       "      <td>-34.969599</td>\n",
       "      <td>-35.035</td>\n",
       "      <td>-35.035</td>\n",
       "      <td>-35.035</td>\n",
       "      <td>-35.035</td>\n",
       "    </tr>\n",
       "    <tr>\n",
       "      <th>ds_turno_atendimento</th>\n",
       "      <td>ATENDIMENTO CONTINUO DE 24 HORAS/DIA (PLANTAO:...</td>\n",
       "      <td>ATENDIMENTO CONTINUO DE 24 HORAS/DIA (PLANTAO:...</td>\n",
       "      <td>ATENDIMENTO CONTINUO DE 24 HORAS/DIA (PLANTAO:...</td>\n",
       "      <td>ATENDIMENTOS NOS TURNOS DA MANHA E A TARDE</td>\n",
       "      <td>ATENDIMENTO NOS TURNOS DA MANHA, TARDE E NOITE</td>\n",
       "    </tr>\n",
       "    <tr>\n",
       "      <th>co_natureza_jur</th>\n",
       "      <td>1244</td>\n",
       "      <td>2062</td>\n",
       "      <td>1244</td>\n",
       "      <td>1244</td>\n",
       "      <td>1244</td>\n",
       "    </tr>\n",
       "    <tr>\n",
       "      <th>st_centro_cirurgico</th>\n",
       "      <td>0.0</td>\n",
       "      <td>1.0</td>\n",
       "      <td>1.0</td>\n",
       "      <td>0.0</td>\n",
       "      <td>0.0</td>\n",
       "    </tr>\n",
       "    <tr>\n",
       "      <th>st_centro_obstetrico</th>\n",
       "      <td>0.0</td>\n",
       "      <td>1.0</td>\n",
       "      <td>1.0</td>\n",
       "      <td>0.0</td>\n",
       "      <td>0.0</td>\n",
       "    </tr>\n",
       "    <tr>\n",
       "      <th>st_centro_neonatal</th>\n",
       "      <td>0.0</td>\n",
       "      <td>1.0</td>\n",
       "      <td>1.0</td>\n",
       "      <td>0.0</td>\n",
       "      <td>0.0</td>\n",
       "    </tr>\n",
       "    <tr>\n",
       "      <th>st_atend_hospitalar</th>\n",
       "      <td>0.0</td>\n",
       "      <td>1.0</td>\n",
       "      <td>1.0</td>\n",
       "      <td>0.0</td>\n",
       "      <td>0.0</td>\n",
       "    </tr>\n",
       "    <tr>\n",
       "      <th>st_atend_ambulatorial</th>\n",
       "      <td>0.0</td>\n",
       "      <td>1.0</td>\n",
       "      <td>1.0</td>\n",
       "      <td>0.0</td>\n",
       "      <td>0.0</td>\n",
       "    </tr>\n",
       "    <tr>\n",
       "      <th>co_ambulatorial_sus</th>\n",
       "      <td>SIM</td>\n",
       "      <td>SIM</td>\n",
       "      <td>SIM</td>\n",
       "      <td>SIM</td>\n",
       "      <td>SIM</td>\n",
       "    </tr>\n",
       "    <tr>\n",
       "      <th>co_natureza_jur_agg</th>\n",
       "      <td>1</td>\n",
       "      <td>2</td>\n",
       "      <td>1</td>\n",
       "      <td>1</td>\n",
       "      <td>1</td>\n",
       "    </tr>\n",
       "    <tr>\n",
       "      <th>classe_natureza</th>\n",
       "      <td>administracao publica</td>\n",
       "      <td>entidades empresariais</td>\n",
       "      <td>administracao publica</td>\n",
       "      <td>administracao publica</td>\n",
       "      <td>administracao publica</td>\n",
       "    </tr>\n",
       "  </tbody>\n",
       "</table>\n",
       "</div>"
      ],
      "text/plain": [
       "                                                                       0  \\\n",
       "co_cnes                                                               19   \n",
       "co_ibge                                                           260290   \n",
       "no_razao_social          PREFEITURA MUNICIPAL DO CABO DE SANTO AGOSTINHO   \n",
       "no_fantasia                            POLICLINICA DR JAMACI DE MEDEIROS   \n",
       "tp_gestao                                                              M   \n",
       "nu_latitude                                                     -8.23166   \n",
       "nu_longitude                                                  -34.969599   \n",
       "ds_turno_atendimento   ATENDIMENTO CONTINUO DE 24 HORAS/DIA (PLANTAO:...   \n",
       "co_natureza_jur                                                     1244   \n",
       "st_centro_cirurgico                                                  0.0   \n",
       "st_centro_obstetrico                                                 0.0   \n",
       "st_centro_neonatal                                                   0.0   \n",
       "st_atend_hospitalar                                                  0.0   \n",
       "st_atend_ambulatorial                                                0.0   \n",
       "co_ambulatorial_sus                                                  SIM   \n",
       "co_natureza_jur_agg                                                    1   \n",
       "classe_natureza                                    administracao publica   \n",
       "\n",
       "                                                                       1  \\\n",
       "co_cnes                                                               27   \n",
       "co_ibge                                                           260290   \n",
       "no_razao_social            CASA DE SAUDE E MATERNIDADE SANTA HELENA LTDA   \n",
       "no_fantasia                                   CASA DE SAUDE SANTA HELENA   \n",
       "tp_gestao                                                              M   \n",
       "nu_latitude                                                       -8.287   \n",
       "nu_longitude                                                     -35.035   \n",
       "ds_turno_atendimento   ATENDIMENTO CONTINUO DE 24 HORAS/DIA (PLANTAO:...   \n",
       "co_natureza_jur                                                     2062   \n",
       "st_centro_cirurgico                                                  1.0   \n",
       "st_centro_obstetrico                                                 1.0   \n",
       "st_centro_neonatal                                                   1.0   \n",
       "st_atend_hospitalar                                                  1.0   \n",
       "st_atend_ambulatorial                                                1.0   \n",
       "co_ambulatorial_sus                                                  SIM   \n",
       "co_natureza_jur_agg                                                    2   \n",
       "classe_natureza                                   entidades empresariais   \n",
       "\n",
       "                                                                       2  \\\n",
       "co_cnes                                                               35   \n",
       "co_ibge                                                           260290   \n",
       "no_razao_social          PREFEITURA MUNICIPAL DO CABO DE SANTO AGOSTINHO   \n",
       "no_fantasia                                       HOSPITAL MENDO SAMPAIO   \n",
       "tp_gestao                                                              M   \n",
       "nu_latitude                                                       -8.287   \n",
       "nu_longitude                                                     -35.035   \n",
       "ds_turno_atendimento   ATENDIMENTO CONTINUO DE 24 HORAS/DIA (PLANTAO:...   \n",
       "co_natureza_jur                                                     1244   \n",
       "st_centro_cirurgico                                                  1.0   \n",
       "st_centro_obstetrico                                                 1.0   \n",
       "st_centro_neonatal                                                   1.0   \n",
       "st_atend_hospitalar                                                  1.0   \n",
       "st_atend_ambulatorial                                                1.0   \n",
       "co_ambulatorial_sus                                                  SIM   \n",
       "co_natureza_jur_agg                                                    1   \n",
       "classe_natureza                                    administracao publica   \n",
       "\n",
       "                                                                     3  \\\n",
       "co_cnes                                                             43   \n",
       "co_ibge                                                         260290   \n",
       "no_razao_social        PREFEITURA MUNICIPAL DO CABO DE SANTO AGOSTINHO   \n",
       "no_fantasia                                POLICLINICA DR MANUEL GOMES   \n",
       "tp_gestao                                                            M   \n",
       "nu_latitude                                                   -8.28765   \n",
       "nu_longitude                                                   -35.035   \n",
       "ds_turno_atendimento        ATENDIMENTOS NOS TURNOS DA MANHA E A TARDE   \n",
       "co_natureza_jur                                                   1244   \n",
       "st_centro_cirurgico                                                0.0   \n",
       "st_centro_obstetrico                                               0.0   \n",
       "st_centro_neonatal                                                 0.0   \n",
       "st_atend_hospitalar                                                0.0   \n",
       "st_atend_ambulatorial                                              0.0   \n",
       "co_ambulatorial_sus                                                SIM   \n",
       "co_natureza_jur_agg                                                  1   \n",
       "classe_natureza                                  administracao publica   \n",
       "\n",
       "                                                                     4  \n",
       "co_cnes                                                             51  \n",
       "co_ibge                                                         260290  \n",
       "no_razao_social        PREFEITURA MUNICIPAL DO CABO DE SANTO AGOSTINHO  \n",
       "no_fantasia                                 POLICLINICA VICENTE MENDES  \n",
       "tp_gestao                                                            M  \n",
       "nu_latitude                                                     -8.287  \n",
       "nu_longitude                                                   -35.035  \n",
       "ds_turno_atendimento    ATENDIMENTO NOS TURNOS DA MANHA, TARDE E NOITE  \n",
       "co_natureza_jur                                                   1244  \n",
       "st_centro_cirurgico                                                0.0  \n",
       "st_centro_obstetrico                                               0.0  \n",
       "st_centro_neonatal                                                 0.0  \n",
       "st_atend_hospitalar                                                0.0  \n",
       "st_atend_ambulatorial                                              0.0  \n",
       "co_ambulatorial_sus                                                SIM  \n",
       "co_natureza_jur_agg                                                  1  \n",
       "classe_natureza                                  administracao publica  "
      ]
     },
     "execution_count": 84,
     "metadata": {},
     "output_type": "execute_result"
    }
   ],
   "source": [
    "df_estab.head().T"
   ]
  },
  {
   "cell_type": "code",
   "execution_count": 85,
   "metadata": {},
   "outputs": [],
   "source": [
    "df_estab.to_csv('d_estab.csv', sep = ';', index=False)"
   ]
  }
 ],
 "metadata": {
  "kernelspec": {
   "display_name": "base",
   "language": "python",
   "name": "python3"
  },
  "language_info": {
   "codemirror_mode": {
    "name": "ipython",
    "version": 3
   },
   "file_extension": ".py",
   "mimetype": "text/x-python",
   "name": "python",
   "nbconvert_exporter": "python",
   "pygments_lexer": "ipython3",
   "version": "3.12.0"
  }
 },
 "nbformat": 4,
 "nbformat_minor": 2
}
