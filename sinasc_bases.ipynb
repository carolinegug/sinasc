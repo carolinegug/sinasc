{
 "cells": [
  {
   "cell_type": "markdown",
   "metadata": {},
   "source": [
    "# Geração de bases para modelo para análise exploratória\n",
    "\n",
    "Basicamente as premissas aplicadas para limpeza dos dados foram:\n",
    "- Retirada linhas que possuam valores nulos em quaisquer dos campos a seguir: `GESTACAO`, `GRAVIDEZ`, `PARTO`, `CONSULTAS`, `ESCMAE`,`QTDFILVIVO`, `QTDFILMORT`.\n",
    "- Campo `IDADEMAE` abaixo de 70 anos (revisar).\n",
    "- Campos `GESTACAO`, `GRAVIDEZ`, `PARTO`, `CONSULTAS`, `ESCMAE` e `SEXO` contendo dados diferentes de valores ignorados ou zero.\n",
    "- Campos `QTDFILVIVO` e `QTDFILMORT` abaixo de 99.\n",
    "\n",
    "O dicionário de campos da base de dados do SINASC se encontra nesta [planilha](https://docs.google.com/spreadsheets/d/1TwysowkLCLIGGLplKkKibahrsG52NqVKOZuTjWyrZ-8/edit#gid=1412172863)."
   ]
  },
  {
   "cell_type": "markdown",
   "metadata": {},
   "source": [
    "# 📚 Libs"
   ]
  },
  {
   "cell_type": "code",
   "execution_count": 1,
   "metadata": {},
   "outputs": [],
   "source": [
    "import pandas as pd\n",
    "import numpy as np\n",
    "import re #para expressões regulares\n",
    "from datetime import datetime"
   ]
  },
  {
   "cell_type": "markdown",
   "metadata": {},
   "source": [
    "# 🎲 FATO SINASC"
   ]
  },
  {
   "cell_type": "markdown",
   "metadata": {},
   "source": [
    "## Importação"
   ]
  },
  {
   "cell_type": "code",
   "execution_count": 2,
   "metadata": {},
   "outputs": [
    {
     "name": "stderr",
     "output_type": "stream",
     "text": [
      "C:\\Users\\carol\\AppData\\Local\\Temp\\ipykernel_29228\\2318329602.py:1: DtypeWarning: Columns (32) have mixed types. Specify dtype option on import or set low_memory=False.\n",
      "  dados = pd.read_csv(\"DNOPEN22.csv\", sep=\";\")\n"
     ]
    }
   ],
   "source": [
    "dados = pd.read_csv(\"DNOPEN22.csv\", sep=\";\")"
   ]
  },
  {
   "cell_type": "markdown",
   "metadata": {},
   "source": [
    "## Limpeza dos dados"
   ]
  },
  {
   "cell_type": "code",
   "execution_count": 3,
   "metadata": {},
   "outputs": [],
   "source": [
    "#mantendo colunas que vamos usar\n",
    "colunas_selecionadas = ['DTNASC','LOCNASC','CODMUNNASC','CODESTAB','SEXO','RACACOR','PESO','CODANOMAL','IDANOMAL','GESTACAO','SEMAGESTAC','GRAVIDEZ','TPAPRESENT','STTRABPART','STCESPARTO','PARTO','TPNASCASSI','IDADEMAE','ESTCIVMAE','RACACORMAE','ESCMAE','ESCMAE2010','ESCMAEAGR1','CODOCUPMAE','PARIDADE','QTDGESTANT','QTDFILVIVO','QTDFILMORT','QTDPARTNOR','QTDPARTCES','MESPRENAT','CONSULTAS','CONSPRENAT','KOTELCHUCK','TPROBSON','IDADEPAI']\n",
    "dados = dados[colunas_selecionadas]"
   ]
  },
  {
   "cell_type": "code",
   "execution_count": 4,
   "metadata": {},
   "outputs": [],
   "source": [
    "#retirando linhas mediante condições\n",
    "dados = dados[(dados.IDADEMAE <= 70.0)]\n",
    "dados = dados[(dados.GESTACAO < 9.0)]\n",
    "dados = dados[(dados.GRAVIDEZ < 9.0)]\n",
    "dados = dados[(dados.PARTO < 9.0)]\n",
    "dados = dados[(dados.CONSULTAS < 9.0)]\n",
    "dados = dados[(dados.ESCMAE < 9.0)]\n",
    "dados = dados[(dados.QTDFILVIVO < 99.0)]\n",
    "dados = dados[(dados.QTDFILMORT < 99.0)]\n",
    "dados = dados[(dados.SEXO > 0)]"
   ]
  },
  {
   "cell_type": "markdown",
   "metadata": {},
   "source": [
    "## Transformação de colunas"
   ]
  },
  {
   "cell_type": "markdown",
   "metadata": {},
   "source": [
    "### DTNASC"
   ]
  },
  {
   "cell_type": "code",
   "execution_count": 5,
   "metadata": {},
   "outputs": [],
   "source": [
    "dados['DTNASC'] = dados['DTNASC'].astype(str).str.pad(8, side = 'left', fillchar = '0')\n",
    "dados['DTNASC'] = pd.to_datetime(dados['DTNASC'], format='%d%m%Y')"
   ]
  },
  {
   "cell_type": "markdown",
   "metadata": {},
   "source": [
    "### CODANOMAL"
   ]
  },
  {
   "cell_type": "code",
   "execution_count": 6,
   "metadata": {},
   "outputs": [],
   "source": [
    "#substitui a letra X por nada, pois não encontramos anomalia contendo a letra X no fim\n",
    "dados['CODANOMAL'] = dados['CODANOMAL'].str.replace('X', '')\n",
    "#substituindo o CID Q356 por Q359 pois foi substituído\n",
    "#https://www.hidoctor.com.br/cid10/p/capitulo/17/grupo/Q35-Q37/categoria/Q35/subcategoria/Q359\n",
    "dados['CODANOMAL'] = dados['CODANOMAL'].str.replace('Q356', 'Q359')\n",
    "# conta quantas letras possui no campo CODANOMAL\n",
    "dados['qt_anomal'] = dados['CODANOMAL'].str.count('[a-zA-Z]')\n",
    "#substitui valores nulos e aplica formato de número inteiro\n",
    "dados['qt_anomal'] = dados['qt_anomal'].fillna(0).astype(int)"
   ]
  },
  {
   "cell_type": "markdown",
   "metadata": {},
   "source": [
    "### CODESTAB"
   ]
  },
  {
   "cell_type": "code",
   "execution_count": 7,
   "metadata": {},
   "outputs": [],
   "source": [
    "dados['CODESTAB'] = dados['CODESTAB'].fillna(0).astype(int).astype(str)"
   ]
  },
  {
   "cell_type": "markdown",
   "metadata": {},
   "source": [
    "## Criação de novas colunas"
   ]
  },
  {
   "cell_type": "markdown",
   "metadata": {},
   "source": [
    "### indice"
   ]
  },
  {
   "cell_type": "code",
   "execution_count": 8,
   "metadata": {},
   "outputs": [],
   "source": [
    "#coluna adicional de índice\n",
    "dados['indice'] = range(1, len(dados) + 1)\n",
    "dados['indice'] = dados['indice'].astype(str)"
   ]
  },
  {
   "cell_type": "markdown",
   "metadata": {},
   "source": [
    "### ano_mes"
   ]
  },
  {
   "cell_type": "code",
   "execution_count": 9,
   "metadata": {},
   "outputs": [],
   "source": [
    "dados['ano_mes'] = dados['DTNASC'].dt.strftime('%Y-%m')"
   ]
  },
  {
   "cell_type": "markdown",
   "metadata": {},
   "source": [
    "### atualização colunas"
   ]
  },
  {
   "cell_type": "code",
   "execution_count": 10,
   "metadata": {},
   "outputs": [],
   "source": [
    "#Renomeando todas colunas\n",
    "novo_nome = {\n",
    "    'DTNASC': 'dt_nasc',\n",
    "    'LOCNASC': 'loc_nasc',\n",
    "    'CODMUNNASC': 'cod_mun_nasc',\n",
    "    'CODESTAB': 'cod_estab',\n",
    "    'SEXO': 'sexo',\n",
    "    'RACACOR': 'raca_cor',\n",
    "    'PESO': 'peso',\n",
    "    'CODANOMAL': 'cod_anomal',\n",
    "    'IDANOMAL': 'id_anomal',\n",
    "    'GESTACAO': 'gestacao',\n",
    "    'SEMAGESTAC': 'sema_gestac',\n",
    "    'GRAVIDEZ': 'gravidez',\n",
    "    'TPAPRESENT': 'tpa_present',\n",
    "    'STTRABPART': 'st_trab_parto',\n",
    "    'STCESPARTO': 'st_ces_parto',\n",
    "    'PARTO': 'parto',\n",
    "    'TPNASCASSI': 'tp_nasc_assi',\n",
    "    'IDADEMAE': 'idade_mae',\n",
    "    'ESTCIVMAE': 'est_civ_mae',\n",
    "    'RACACORMAE': 'raca_cor_mae',\n",
    "    'ESCMAE': 'esc_mae',\n",
    "    'ESCMAE2010': 'esc_mae_2010',\n",
    "    'ESCMAEAGR1': 'esc_mae_gr1',\n",
    "    'CODOCUPMAE': 'cod_ocup_mae',\n",
    "    'PARIDADE': 'paridade',\n",
    "    'QTDGESTANT': 'qtd_gestant',\n",
    "    'QTDFILVIVO': 'qtd_fil_vivo',\n",
    "    'QTDFILMORT': 'qtd_fil_mort',\n",
    "    'QTDPARTNOR': 'qtd_part_nor',\n",
    "    'QTDPARTCES': 'qtd_part_ces',\n",
    "    'MESPRENAT': 'mes_pre_nat',\n",
    "    'CONSULTAS': 'consultas',\n",
    "    'CONSPRENAT': 'cons_pre_nat',\n",
    "    'KOTELCHUCK': 'kotelchuck',\n",
    "    'TPROBSON': 'tp_robson',\n",
    "    'IDADEPAI': 'idade_pai'\n",
    "}\n",
    "\n",
    "dados.rename(columns=novo_nome, inplace=True)"
   ]
  },
  {
   "cell_type": "code",
   "execution_count": 11,
   "metadata": {},
   "outputs": [],
   "source": [
    "#transformando colunas float que na verdade são string\n",
    "colunas_float = ['raca_cor', 'cod_anomal', 'id_anomal', 'gestacao', 'gravidez', 'tpa_present', 'st_trab_parto', 'st_ces_parto', 'parto', 'tp_nasc_assi', 'est_civ_mae', 'raca_cor_mae', 'esc_mae', 'esc_mae_2010', 'cod_ocup_mae', 'qtd_gestant', 'qtd_fil_vivo', 'qtd_fil_mort', 'qtd_part_nor', 'qtd_part_ces', 'mes_pre_nat', 'consultas', 'cons_pre_nat', 'sema_gestac']\n",
    "\n",
    "for coluna in colunas_float:\n",
    "    dados [coluna] = dados[coluna].astype(str).str.replace('.0', '')"
   ]
  },
  {
   "cell_type": "code",
   "execution_count": 12,
   "metadata": {},
   "outputs": [],
   "source": [
    "#transformando coluna que está como float mas é int\n",
    "coluna_int = ['idade_mae', 'idade_pai']\n",
    "for coluna in coluna_int:\n",
    "    dados [coluna] = dados[coluna].fillna(0).astype(int)"
   ]
  },
  {
   "cell_type": "code",
   "execution_count": 13,
   "metadata": {},
   "outputs": [],
   "source": [
    "#gerando planilha com colunas e formatos\n",
    "dados_info = pd.DataFrame(dados.dtypes, columns=['Tipo'])\n",
    "dados_info.index.name = 'Coluna'\n",
    "dados_info = dados_info.reset_index()\n",
    "dados_info.to_excel('formato_colunas_pos.xlsx', index=False)"
   ]
  },
  {
   "cell_type": "code",
   "execution_count": 14,
   "metadata": {},
   "outputs": [
    {
     "data": {
      "text/html": [
       "<div>\n",
       "<style scoped>\n",
       "    .dataframe tbody tr th:only-of-type {\n",
       "        vertical-align: middle;\n",
       "    }\n",
       "\n",
       "    .dataframe tbody tr th {\n",
       "        vertical-align: top;\n",
       "    }\n",
       "\n",
       "    .dataframe thead th {\n",
       "        text-align: right;\n",
       "    }\n",
       "</style>\n",
       "<table border=\"1\" class=\"dataframe\">\n",
       "  <thead>\n",
       "    <tr style=\"text-align: right;\">\n",
       "      <th>Coluna</th>\n",
       "      <th>dt_nasc</th>\n",
       "      <th>loc_nasc</th>\n",
       "      <th>cod_mun_nasc</th>\n",
       "      <th>cod_estab</th>\n",
       "      <th>sexo</th>\n",
       "      <th>raca_cor</th>\n",
       "      <th>peso</th>\n",
       "      <th>cod_anomal</th>\n",
       "      <th>id_anomal</th>\n",
       "      <th>gestacao</th>\n",
       "      <th>...</th>\n",
       "      <th>qtd_part_ces</th>\n",
       "      <th>mes_pre_nat</th>\n",
       "      <th>consultas</th>\n",
       "      <th>cons_pre_nat</th>\n",
       "      <th>kotelchuck</th>\n",
       "      <th>tp_robson</th>\n",
       "      <th>idade_pai</th>\n",
       "      <th>qt_anomal</th>\n",
       "      <th>indice</th>\n",
       "      <th>ano_mes</th>\n",
       "    </tr>\n",
       "  </thead>\n",
       "  <tbody>\n",
       "    <tr>\n",
       "      <th>0</th>\n",
       "      <td>2022-01-03</td>\n",
       "      <td>1</td>\n",
       "      <td>110001</td>\n",
       "      <td>2516500</td>\n",
       "      <td>2</td>\n",
       "      <td>1</td>\n",
       "      <td>3412.0</td>\n",
       "      <td>nan</td>\n",
       "      <td>2</td>\n",
       "      <td>5</td>\n",
       "      <td>...</td>\n",
       "      <td>0</td>\n",
       "      <td>2</td>\n",
       "      <td>4</td>\n",
       "      <td>7</td>\n",
       "      <td>5</td>\n",
       "      <td>7</td>\n",
       "      <td>20</td>\n",
       "      <td>0</td>\n",
       "      <td>1</td>\n",
       "      <td>2022-01</td>\n",
       "    </tr>\n",
       "    <tr>\n",
       "      <th>1</th>\n",
       "      <td>2022-01-07</td>\n",
       "      <td>1</td>\n",
       "      <td>110001</td>\n",
       "      <td>2516500</td>\n",
       "      <td>2</td>\n",
       "      <td>1</td>\n",
       "      <td>3594.0</td>\n",
       "      <td>nan</td>\n",
       "      <td>2</td>\n",
       "      <td>5</td>\n",
       "      <td>...</td>\n",
       "      <td>0</td>\n",
       "      <td>2</td>\n",
       "      <td>4</td>\n",
       "      <td>8</td>\n",
       "      <td>5</td>\n",
       "      <td>1</td>\n",
       "      <td>28</td>\n",
       "      <td>0</td>\n",
       "      <td>2</td>\n",
       "      <td>2022-01</td>\n",
       "    </tr>\n",
       "    <tr>\n",
       "      <th>2</th>\n",
       "      <td>2022-01-12</td>\n",
       "      <td>1</td>\n",
       "      <td>110001</td>\n",
       "      <td>2516500</td>\n",
       "      <td>2</td>\n",
       "      <td>nan</td>\n",
       "      <td>3470.0</td>\n",
       "      <td>nan</td>\n",
       "      <td>2</td>\n",
       "      <td>5</td>\n",
       "      <td>...</td>\n",
       "      <td>1</td>\n",
       "      <td>1</td>\n",
       "      <td>4</td>\n",
       "      <td>7</td>\n",
       "      <td>5</td>\n",
       "      <td>5</td>\n",
       "      <td>37</td>\n",
       "      <td>0</td>\n",
       "      <td>3</td>\n",
       "      <td>2022-01</td>\n",
       "    </tr>\n",
       "    <tr>\n",
       "      <th>3</th>\n",
       "      <td>2022-01-12</td>\n",
       "      <td>1</td>\n",
       "      <td>110001</td>\n",
       "      <td>2516500</td>\n",
       "      <td>2</td>\n",
       "      <td>4</td>\n",
       "      <td>3260.0</td>\n",
       "      <td>nan</td>\n",
       "      <td>2</td>\n",
       "      <td>5</td>\n",
       "      <td>...</td>\n",
       "      <td>1</td>\n",
       "      <td>1</td>\n",
       "      <td>4</td>\n",
       "      <td>31</td>\n",
       "      <td>5</td>\n",
       "      <td>5</td>\n",
       "      <td>40</td>\n",
       "      <td>0</td>\n",
       "      <td>4</td>\n",
       "      <td>2022-01</td>\n",
       "    </tr>\n",
       "    <tr>\n",
       "      <th>4</th>\n",
       "      <td>2022-01-17</td>\n",
       "      <td>1</td>\n",
       "      <td>110001</td>\n",
       "      <td>2516500</td>\n",
       "      <td>2</td>\n",
       "      <td>nan</td>\n",
       "      <td>3232.0</td>\n",
       "      <td>nan</td>\n",
       "      <td>2</td>\n",
       "      <td>5</td>\n",
       "      <td>...</td>\n",
       "      <td>0</td>\n",
       "      <td>2</td>\n",
       "      <td>4</td>\n",
       "      <td>8</td>\n",
       "      <td>5</td>\n",
       "      <td>2</td>\n",
       "      <td>37</td>\n",
       "      <td>0</td>\n",
       "      <td>5</td>\n",
       "      <td>2022-01</td>\n",
       "    </tr>\n",
       "  </tbody>\n",
       "</table>\n",
       "<p>5 rows × 39 columns</p>\n",
       "</div>"
      ],
      "text/plain": [
       "Coluna    dt_nasc  loc_nasc  cod_mun_nasc cod_estab  sexo raca_cor    peso  \\\n",
       "0      2022-01-03         1        110001   2516500     2        1  3412.0   \n",
       "1      2022-01-07         1        110001   2516500     2        1  3594.0   \n",
       "2      2022-01-12         1        110001   2516500     2      nan  3470.0   \n",
       "3      2022-01-12         1        110001   2516500     2        4  3260.0   \n",
       "4      2022-01-17         1        110001   2516500     2      nan  3232.0   \n",
       "\n",
       "Coluna cod_anomal id_anomal gestacao  ... qtd_part_ces mes_pre_nat consultas  \\\n",
       "0             nan         2        5  ...            0           2         4   \n",
       "1             nan         2        5  ...            0           2         4   \n",
       "2             nan         2        5  ...            1           1         4   \n",
       "3             nan         2        5  ...            1           1         4   \n",
       "4             nan         2        5  ...            0           2         4   \n",
       "\n",
       "Coluna cons_pre_nat kotelchuck tp_robson idade_pai  qt_anomal indice  ano_mes  \n",
       "0                 7          5         7        20          0      1  2022-01  \n",
       "1                 8          5         1        28          0      2  2022-01  \n",
       "2                 7          5         5        37          0      3  2022-01  \n",
       "3                31          5         5        40          0      4  2022-01  \n",
       "4                 8          5         2        37          0      5  2022-01  \n",
       "\n",
       "[5 rows x 39 columns]"
      ]
     },
     "execution_count": 14,
     "metadata": {},
     "output_type": "execute_result"
    }
   ],
   "source": [
    "dados.head()"
   ]
  },
  {
   "cell_type": "markdown",
   "metadata": {},
   "source": [
    "## csv"
   ]
  },
  {
   "cell_type": "code",
   "execution_count": 15,
   "metadata": {},
   "outputs": [],
   "source": [
    "dados.to_csv('f_sinasc_tratado.csv', sep=';', index=False)"
   ]
  },
  {
   "cell_type": "markdown",
   "metadata": {},
   "source": [
    "## Teste correspondência campo de estabelecimento"
   ]
  },
  {
   "cell_type": "code",
   "execution_count": null,
   "metadata": {},
   "outputs": [],
   "source": [
    "#cod_estab_uni = pd.DataFrame({'cod_estab': dados['cod_estab'].unique()})"
   ]
  },
  {
   "cell_type": "code",
   "execution_count": null,
   "metadata": {},
   "outputs": [],
   "source": [
    "#cod_estab_uni.shape"
   ]
  },
  {
   "cell_type": "code",
   "execution_count": null,
   "metadata": {},
   "outputs": [],
   "source": [
    "#cod_estab_uni = pd.merge(cod_estab_uni, df_estab, left_on= 'cod_estab', right_on= 'co_cnes', how = 'left')"
   ]
  },
  {
   "cell_type": "code",
   "execution_count": null,
   "metadata": {},
   "outputs": [],
   "source": [
    "#cod_estab_uni.shape"
   ]
  },
  {
   "cell_type": "code",
   "execution_count": null,
   "metadata": {},
   "outputs": [],
   "source": [
    "#cod_estab_uni.info()\n",
    "#3% sem info de latlong (falta checar se são válidas) e 1% de natureza não tem info"
   ]
  },
  {
   "cell_type": "code",
   "execution_count": null,
   "metadata": {},
   "outputs": [],
   "source": [
    "#contagem = cod_estab_uni.groupby('classe_natureza').size().reset_index(name = 'qt_linhas')"
   ]
  },
  {
   "cell_type": "code",
   "execution_count": null,
   "metadata": {},
   "outputs": [],
   "source": [
    "#contagem.sort_values(by='qt_linhas', ascending=False).head(10)"
   ]
  },
  {
   "cell_type": "markdown",
   "metadata": {},
   "source": [
    "# 🎲 FATO ANOMALIAS"
   ]
  },
  {
   "cell_type": "code",
   "execution_count": null,
   "metadata": {},
   "outputs": [],
   "source": [
    "df_cod_anomal_sep = pd.DataFrame({'cod_anomal': dados['cod_anomal'].unique()})\n",
    "#quebra os códigos de anomalias\n",
    "df_cod_anomal_sep['cod_anomal_sep'] =  df_cod_anomal_sep['cod_anomal'].str.findall(r'[a-zA-Z]+\\d+')"
   ]
  },
  {
   "cell_type": "code",
   "execution_count": null,
   "metadata": {},
   "outputs": [],
   "source": [
    "df_cod_anomal_sep = df_cod_anomal_sep.explode('cod_anomal_sep')"
   ]
  },
  {
   "cell_type": "code",
   "execution_count": null,
   "metadata": {},
   "outputs": [],
   "source": [
    "df_cod_anomal_sep = df_cod_anomal_sep[df_cod_anomal_sep.cod_anomal.notnull()]"
   ]
  },
  {
   "cell_type": "code",
   "execution_count": null,
   "metadata": {},
   "outputs": [],
   "source": [
    "df_cod_anomal_sep.head()"
   ]
  },
  {
   "cell_type": "code",
   "execution_count": null,
   "metadata": {},
   "outputs": [],
   "source": [
    "df_cod_anomal_sep.info()"
   ]
  },
  {
   "cell_type": "code",
   "execution_count": null,
   "metadata": {},
   "outputs": [],
   "source": [
    "df_cod_anomal_sep.to_csv('d_anomalias.csv', sep=';', index=False)"
   ]
  },
  {
   "cell_type": "markdown",
   "metadata": {},
   "source": [
    "# 🎲 DIMENSÃO ANOMALIAS"
   ]
  },
  {
   "cell_type": "code",
   "execution_count": null,
   "metadata": {},
   "outputs": [],
   "source": [
    "cols = ['SUBCAT', 'CLASSIF', 'RESTRSEXO', 'CAUSAOBITO', 'DESCRICAO']\n",
    "df_anomal = pd.read_csv('CID-10-SUBCATEGORIAS.csv', usecols= cols, sep =';', encoding='ISO-8859-1')"
   ]
  },
  {
   "cell_type": "code",
   "execution_count": null,
   "metadata": {},
   "outputs": [],
   "source": [
    "#renomeando colunas\n",
    "novo_nome = {\n",
    "    'SUBCAT': 'subcat',\n",
    "    'CLASSIF': 'classif',\n",
    "    'RESTRSEXO': 'restr_sexo',\n",
    "    'CAUSAOBITO': 'causa_obito',\n",
    "    'DESCRICAO': 'descricao_subcat',\n",
    "    'DESCRABREV': 'desc_abrev_subcat'\n",
    "}\n",
    "\n",
    "df_anomal.rename(columns=novo_nome, inplace=True)"
   ]
  },
  {
   "cell_type": "code",
   "execution_count": null,
   "metadata": {},
   "outputs": [],
   "source": [
    "#criando a chave de categoria para facilitar a análise\n",
    "df_anomal['cat'] = df_anomal['subcat'].str.slice(0,3)"
   ]
  },
  {
   "cell_type": "code",
   "execution_count": null,
   "metadata": {},
   "outputs": [],
   "source": [
    "#importando base de categorias\n",
    "cols = ['CAT', 'DESCRICAO']\n",
    "df_cat_anomal = pd.read_csv('CID-10-CATEGORIAS.csv', usecols= cols, sep =';', encoding='ISO-8859-1')"
   ]
  },
  {
   "cell_type": "code",
   "execution_count": null,
   "metadata": {},
   "outputs": [],
   "source": [
    "#renomeando colunas\n",
    "novo_nome = {\n",
    "    'CAT': 'cat',\n",
    "    'DESCRICAO': 'descricao_cat'\n",
    "}\n",
    "\n",
    "df_cat_anomal.rename(columns=novo_nome, inplace=True)"
   ]
  },
  {
   "cell_type": "code",
   "execution_count": null,
   "metadata": {},
   "outputs": [],
   "source": [
    "#fazendo o join entre subcategoria e categoria\n",
    "df_anomal = pd.merge(df_anomal,df_cat_anomal, on=['cat'], how = 'left')"
   ]
  },
  {
   "cell_type": "code",
   "execution_count": null,
   "metadata": {},
   "outputs": [],
   "source": [
    "df_anomal.head()"
   ]
  },
  {
   "cell_type": "code",
   "execution_count": null,
   "metadata": {},
   "outputs": [],
   "source": [
    "df_anomal.info()"
   ]
  },
  {
   "cell_type": "code",
   "execution_count": null,
   "metadata": {},
   "outputs": [],
   "source": [
    "df_anomal.to_csv('d_desc_anomal.csv', sep = ';', index=False)"
   ]
  },
  {
   "cell_type": "markdown",
   "metadata": {},
   "source": [
    "# 🎲 DIMENSAO MUNICIPIO"
   ]
  },
  {
   "cell_type": "code",
   "execution_count": 11,
   "metadata": {},
   "outputs": [
    {
     "name": "stdout",
     "output_type": "stream",
     "text": [
      "WARNING *** OLE2 inconsistency: SSCS size is 0 but SSAT size is non-zero\n",
      "*** No CODEPAGE record, no encoding_override: will use 'iso-8859-1'\n"
     ]
    }
   ],
   "source": [
    "#intervalo2 = pd.read_excel(url_planilha, sheet_name='emissoes_C02', usecols= 'A:D', nrows=10)\n",
    "planilha_muni = r'C:\\Users\\carol\\OneDrive\\Estudos\\MBA Data Science\\TCC\\SINASC\\RELATORIO_DTB_BRASIL_MUNICIPIO.xls'\n",
    "\n",
    "cols = ['UF', 'Nome_UF', 'Município' ,'Código Município Completo', 'Nome_Município']\n",
    "df_muni = pd.read_excel(planilha_muni, sheet_name='DTB_2022_Municipio', usecols= cols, skiprows=6, nrows=5577)"
   ]
  },
  {
   "cell_type": "code",
   "execution_count": 12,
   "metadata": {},
   "outputs": [],
   "source": [
    "#renomeando colunas\n",
    "novo_nome = {\n",
    "    'UF': 'cod_uf',\n",
    "    'Nome_UF': 'uf',\n",
    "    'Município': 'cod_muni',\n",
    "    'Código Município Completo': 'cod_muni_completo',\n",
    "    'Nome_Município': 'nome_muni'\n",
    "}\n",
    "\n",
    "df_muni.rename(columns=novo_nome, inplace=True)"
   ]
  },
  {
   "cell_type": "code",
   "execution_count": 13,
   "metadata": {},
   "outputs": [],
   "source": [
    "#transformando col de cod para object\n",
    "col_object1 = ['cod_uf', 'cod_muni', 'cod_muni_completo']\n",
    "df_muni[col_object1] = df_muni[col_object1].astype(str)    "
   ]
  },
  {
   "cell_type": "code",
   "execution_count": 14,
   "metadata": {},
   "outputs": [],
   "source": [
    "#transformando chave muni\n",
    "df_muni['cod_muni'] = df_muni['cod_muni'].astype(str).str.pad(5, side = 'left', fillchar = '0')\n",
    "#retirando 1 caracter da coluna cod_municompleto\n",
    "df_muni['cod_muni_completo'] = df_muni['cod_muni_completo'].str.slice(0,6)"
   ]
  },
  {
   "cell_type": "code",
   "execution_count": 15,
   "metadata": {},
   "outputs": [],
   "source": [
    "#criando coluna de regiao\n",
    "\n",
    "# mapeia os estados para suas respectivas regiões\n",
    "regiao_por_estado = {\n",
    "    'Norte': ['Acre', 'Amapá', 'Amazonas', 'Pará', 'Rondônia', 'Roraima', 'Tocantins'],\n",
    "    'Nordeste': ['Alagoas', 'Bahia', 'Ceará', 'Maranhão', 'Paraíba', 'Pernambuco', 'Piauí', 'Rio Grande do Norte', 'Sergipe'],\n",
    "    'Centro-Oeste': ['Distrito Federal', 'Goiás', 'Mato Grosso', 'Mato Grosso do Sul'],\n",
    "    'Sudeste': ['Espírito Santo', 'Minas Gerais', 'Rio de Janeiro', 'São Paulo'],\n",
    "    'Sul': ['Paraná', 'Rio Grande do Sul', 'Santa Catarina']\n",
    "}\n",
    "\n",
    "# Função para mapear estados para regiões\n",
    "def mapear_regiao(uf):\n",
    "    for regiao, estados in regiao_por_estado.items():\n",
    "        if uf in estados:\n",
    "            return regiao\n",
    "    return None  # Retorna None se o estado não for encontrado\n",
    "\n",
    "#aplica na coluna\n",
    "df_muni['regiao'] = df_muni['uf'].apply(mapear_regiao)"
   ]
  },
  {
   "cell_type": "code",
   "execution_count": 8,
   "metadata": {},
   "outputs": [
    {
     "name": "stdout",
     "output_type": "stream",
     "text": [
      "<class 'pandas.core.frame.DataFrame'>\n",
      "RangeIndex: 5570 entries, 0 to 5569\n",
      "Data columns (total 6 columns):\n",
      " #   Column             Non-Null Count  Dtype \n",
      "---  ------             --------------  ----- \n",
      " 0   cod_uf             5570 non-null   object\n",
      " 1   uf                 5570 non-null   object\n",
      " 2   cod_muni           5570 non-null   object\n",
      " 3   cod_muni_completo  5570 non-null   object\n",
      " 4   nome_muni          5570 non-null   object\n",
      " 5   regiao             5570 non-null   object\n",
      "dtypes: object(6)\n",
      "memory usage: 261.2+ KB\n"
     ]
    }
   ],
   "source": [
    "df_muni.info()"
   ]
  },
  {
   "cell_type": "code",
   "execution_count": 9,
   "metadata": {},
   "outputs": [
    {
     "data": {
      "text/html": [
       "<div>\n",
       "<style scoped>\n",
       "    .dataframe tbody tr th:only-of-type {\n",
       "        vertical-align: middle;\n",
       "    }\n",
       "\n",
       "    .dataframe tbody tr th {\n",
       "        vertical-align: top;\n",
       "    }\n",
       "\n",
       "    .dataframe thead th {\n",
       "        text-align: right;\n",
       "    }\n",
       "</style>\n",
       "<table border=\"1\" class=\"dataframe\">\n",
       "  <thead>\n",
       "    <tr style=\"text-align: right;\">\n",
       "      <th></th>\n",
       "      <th>cod_uf</th>\n",
       "      <th>uf</th>\n",
       "      <th>cod_muni</th>\n",
       "      <th>cod_muni_completo</th>\n",
       "      <th>nome_muni</th>\n",
       "      <th>regiao</th>\n",
       "    </tr>\n",
       "  </thead>\n",
       "  <tbody>\n",
       "    <tr>\n",
       "      <th>0</th>\n",
       "      <td>11</td>\n",
       "      <td>Rondônia</td>\n",
       "      <td>00015</td>\n",
       "      <td>110001</td>\n",
       "      <td>Alta Floresta D'Oeste</td>\n",
       "      <td>Norte</td>\n",
       "    </tr>\n",
       "    <tr>\n",
       "      <th>1</th>\n",
       "      <td>11</td>\n",
       "      <td>Rondônia</td>\n",
       "      <td>00379</td>\n",
       "      <td>110037</td>\n",
       "      <td>Alto Alegre dos Parecis</td>\n",
       "      <td>Norte</td>\n",
       "    </tr>\n",
       "    <tr>\n",
       "      <th>2</th>\n",
       "      <td>11</td>\n",
       "      <td>Rondônia</td>\n",
       "      <td>00403</td>\n",
       "      <td>110040</td>\n",
       "      <td>Alto Paraíso</td>\n",
       "      <td>Norte</td>\n",
       "    </tr>\n",
       "    <tr>\n",
       "      <th>3</th>\n",
       "      <td>11</td>\n",
       "      <td>Rondônia</td>\n",
       "      <td>00346</td>\n",
       "      <td>110034</td>\n",
       "      <td>Alvorada D'Oeste</td>\n",
       "      <td>Norte</td>\n",
       "    </tr>\n",
       "    <tr>\n",
       "      <th>4</th>\n",
       "      <td>11</td>\n",
       "      <td>Rondônia</td>\n",
       "      <td>00023</td>\n",
       "      <td>110002</td>\n",
       "      <td>Ariquemes</td>\n",
       "      <td>Norte</td>\n",
       "    </tr>\n",
       "  </tbody>\n",
       "</table>\n",
       "</div>"
      ],
      "text/plain": [
       "  cod_uf        uf cod_muni cod_muni_completo                nome_muni regiao\n",
       "0     11  Rondônia    00015            110001    Alta Floresta D'Oeste  Norte\n",
       "1     11  Rondônia    00379            110037  Alto Alegre dos Parecis  Norte\n",
       "2     11  Rondônia    00403            110040             Alto Paraíso  Norte\n",
       "3     11  Rondônia    00346            110034         Alvorada D'Oeste  Norte\n",
       "4     11  Rondônia    00023            110002                Ariquemes  Norte"
      ]
     },
     "execution_count": 9,
     "metadata": {},
     "output_type": "execute_result"
    }
   ],
   "source": [
    "df_muni.head()\n"
   ]
  },
  {
   "cell_type": "code",
   "execution_count": 10,
   "metadata": {},
   "outputs": [],
   "source": [
    "df_muni.to_csv('d_muni.csv', sep = ';', index=False)"
   ]
  },
  {
   "cell_type": "markdown",
   "metadata": {},
   "source": [
    "# 🎲 FATO POPULAÇÃO"
   ]
  },
  {
   "cell_type": "code",
   "execution_count": null,
   "metadata": {},
   "outputs": [],
   "source": [
    "cols = ['COD. UF', 'COD. MUNIC', 'POPULAÇÃO ESTIMADA']\n",
    "df_pop = pd.read_excel('POP2021_20230710.xls', sheet_name='Municípios', usecols= cols, skiprows=1, nrows=5572)"
   ]
  },
  {
   "cell_type": "code",
   "execution_count": null,
   "metadata": {},
   "outputs": [],
   "source": [
    "#renomeando colunas\n",
    "novo_nome = {\n",
    "    'COD. UF': 'cod_uf',\n",
    "    'COD. MUNIC': 'cod_muni',\n",
    "    'POPULAÇÃO ESTIMADA': 'pop_estimada'\n",
    "}\n",
    "\n",
    "df_pop.rename(columns=novo_nome, inplace=True)"
   ]
  },
  {
   "cell_type": "code",
   "execution_count": null,
   "metadata": {},
   "outputs": [],
   "source": [
    "#alterando tipo de colunas\n",
    "#transformando col de cod para object\n",
    "col_object1 = ['cod_uf', 'cod_muni']\n",
    "df_pop[col_object1] = df_pop[col_object1].fillna(0).astype(int).astype(str)"
   ]
  },
  {
   "cell_type": "code",
   "execution_count": null,
   "metadata": {},
   "outputs": [],
   "source": [
    "#acrescentando zeros à esquerda do código do municipio\n",
    "df_pop['cod_muni'] = df_pop['cod_muni'].str.pad(5, side = 'left', fillchar = '0')"
   ]
  },
  {
   "cell_type": "code",
   "execution_count": null,
   "metadata": {},
   "outputs": [],
   "source": [
    "#tirando . e ou vírgula dos campos\n",
    "def limpar_string(texto):\n",
    "    # Verificar se o valor é uma string\n",
    "    if isinstance(texto, str):\n",
    "        # Define o padrão regex para encontrar parênteses e seu conteúdo\n",
    "        padrao = r'\\([^)]*\\)'\n",
    "        \n",
    "        # Substitui o padrão por uma string vazia\n",
    "        texto_limpo = re.sub(padrao, '', texto)\n",
    "        \n",
    "        # Remove pontos e vírgulas\n",
    "        texto_limpo = texto_limpo.replace('.', '').replace(',', '')\n",
    "        \n",
    "        return texto_limpo\n",
    "    else:\n",
    "        return texto\n",
    "\n",
    "df_pop['pop_estimada'] = df_pop['pop_estimada'].apply(limpar_string)"
   ]
  },
  {
   "cell_type": "code",
   "execution_count": null,
   "metadata": {},
   "outputs": [],
   "source": [
    "#transformando a coluna de população para int\n",
    "df_pop['pop_estimada'] = df_pop['pop_estimada'].fillna(0).astype(int)"
   ]
  },
  {
   "cell_type": "code",
   "execution_count": null,
   "metadata": {},
   "outputs": [],
   "source": [
    "df_pop.head()"
   ]
  },
  {
   "cell_type": "code",
   "execution_count": null,
   "metadata": {},
   "outputs": [],
   "source": [
    "df_pop.info()"
   ]
  },
  {
   "cell_type": "code",
   "execution_count": null,
   "metadata": {},
   "outputs": [],
   "source": [
    "df_pop.to_csv('d_pop.csv', sep = ';', index=False)"
   ]
  },
  {
   "cell_type": "markdown",
   "metadata": {},
   "source": [
    "# 🎲 DIMENSAO ESTABELECIMENTOS"
   ]
  },
  {
   "cell_type": "code",
   "execution_count": null,
   "metadata": {},
   "outputs": [],
   "source": [
    "cols = ['CO_CNES','CO_IBGE','NO_RAZAO_SOCIAL','NO_FANTASIA','TP_GESTAO','NU_LATITUDE','NU_LONGITUDE','DS_TURNO_ATENDIMENTO','CO_NATUREZA_JUR','ST_CENTRO_CIRURGICO','ST_CENTRO_OBSTETRICO','ST_CENTRO_NEONATAL','ST_ATEND_HOSPITALAR','ST_ATEND_AMBULATORIAL','CO_AMBULATORIAL_SUS']\n",
    "\n",
    "df_estab = pd.read_csv('cnes_estabelecimentos.csv', usecols= cols, sep =';', encoding='ISO-8859-1')"
   ]
  },
  {
   "cell_type": "code",
   "execution_count": null,
   "metadata": {},
   "outputs": [],
   "source": [
    "#renomeando colunas\n",
    "novo_nome = {\n",
    "\n",
    "    'CO_CNES': 'co_cnes',\n",
    "    'CO_IBGE': 'co_ibge',\n",
    "    'NO_RAZAO_SOCIAL': 'no_razao_social',\n",
    "    'NO_FANTASIA': 'no_fantasia',\n",
    "    'TP_GESTAO': 'tp_gestao',\n",
    "    'NU_LATITUDE': 'nu_latitude',\n",
    "    'NU_LONGITUDE': 'nu_longitude',\n",
    "    'DS_TURNO_ATENDIMENTO': 'ds_turno_atendimento',\n",
    "    'CO_NATUREZA_JUR': 'co_natureza_jur',\n",
    "    'ST_CENTRO_CIRURGICO': 'st_centro_cirurgico',\n",
    "    'ST_CENTRO_OBSTETRICO': 'st_centro_obstetrico',\n",
    "    'ST_CENTRO_NEONATAL': 'st_centro_neonatal',\n",
    "    'ST_ATEND_HOSPITALAR': 'st_atend_hospitalar',\n",
    "    'ST_ATEND_AMBULATORIAL': 'st_atend_ambulatorial',\n",
    "    'CO_AMBULATORIAL_SUS': 'co_ambulatorial_sus'\n",
    "    \n",
    "}\n",
    "\n",
    "df_estab.rename(columns=novo_nome, inplace=True)"
   ]
  },
  {
   "cell_type": "code",
   "execution_count": null,
   "metadata": {},
   "outputs": [],
   "source": [
    "df_estab.info()"
   ]
  },
  {
   "cell_type": "code",
   "execution_count": null,
   "metadata": {},
   "outputs": [],
   "source": [
    "df_estab['co_natureza_jur'] = df_estab['co_natureza_jur'].fillna(0).astype(int)\n",
    "\n",
    "col_object = ['co_cnes','co_ibge','no_razao_social','no_fantasia','tp_gestao','ds_turno_atendimento','co_natureza_jur','st_centro_cirurgico','st_centro_obstetrico','st_centro_neonatal','st_atend_hospitalar','st_atend_ambulatorial','co_ambulatorial_sus']\n",
    "df_estab[col_object] = df_estab[col_object].astype(str)"
   ]
  },
  {
   "cell_type": "code",
   "execution_count": null,
   "metadata": {},
   "outputs": [],
   "source": [
    "#nova coluna de natureza do estabelecimento\n",
    "df_estab['co_natureza_jur_agg'] = df_estab['co_natureza_jur'].str.slice(0,1)"
   ]
  },
  {
   "cell_type": "code",
   "execution_count": null,
   "metadata": {},
   "outputs": [],
   "source": [
    "#trazendo a marcação da categoria no df seguinto clasificação do ibge\n",
    "mapeamento = {'1': 'administracao publica', '2':'entidades empresariais', '3':'entidades sem fins lucrativos', '4':'pessoas físicas', '5': 'organizações internacionais e outras instituições extraterritoriais' }\n",
    "df_estab['classe_natureza'] = df_estab['co_natureza_jur_agg'].map(mapeamento).fillna('sem info')"
   ]
  },
  {
   "cell_type": "code",
   "execution_count": null,
   "metadata": {},
   "outputs": [],
   "source": [
    "df_estab.head()"
   ]
  },
  {
   "cell_type": "code",
   "execution_count": null,
   "metadata": {},
   "outputs": [],
   "source": [
    "df_estab.to_csv('d_estab.csv', sep = ';', index=False)"
   ]
  },
  {
   "cell_type": "code",
   "execution_count": null,
   "metadata": {},
   "outputs": [],
   "source": [
    "#nível de correspondência dos cod de estabelecimento na base sinasc -> fazer cod estab únicos ja´em string\n",
    "#dps match com essa base pra ver qnt tem qnt nãotem"
   ]
  },
  {
   "cell_type": "markdown",
   "metadata": {},
   "source": []
  }
 ],
 "metadata": {
  "kernelspec": {
   "display_name": "base",
   "language": "python",
   "name": "python3"
  },
  "language_info": {
   "codemirror_mode": {
    "name": "ipython",
    "version": 3
   },
   "file_extension": ".py",
   "mimetype": "text/x-python",
   "name": "python",
   "nbconvert_exporter": "python",
   "pygments_lexer": "ipython3",
   "version": "3.12.0"
  }
 },
 "nbformat": 4,
 "nbformat_minor": 2
}
