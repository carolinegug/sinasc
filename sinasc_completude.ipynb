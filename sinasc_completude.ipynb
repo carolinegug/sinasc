{
 "cells": [
  {
   "cell_type": "markdown",
   "metadata": {},
   "source": [
    "# 📚Libs"
   ]
  },
  {
   "cell_type": "code",
   "execution_count": 2,
   "metadata": {},
   "outputs": [],
   "source": [
    "import pyspark\n",
    "import os\n",
    "import pandas as pd\n",
    "from pyspark.sql.functions import *\n",
    "from pyspark.sql.functions import count, col, when, sum as pyspark_sum\n",
    "from pyspark.sql.types import *\n",
    "from pyspark.sql import SparkSession\n",
    "from functools import reduce\n"
   ]
  },
  {
   "cell_type": "code",
   "execution_count": 2,
   "metadata": {},
   "outputs": [],
   "source": [
    "# Definir a variável de ambiente HADOOP_HOME\n",
    "os.environ[\"HADOOP_HOME\"] = r\"C:\\spark-3.5.0-bin-hadoop3\"\n",
    "\n",
    "# Adicionar o diretório bin do Hadoop ao PATH\n",
    "os.environ[\"PATH\"] += os.pathsep + os.path.join(os.environ[\"HADOOP_HOME\"], \"bin\")"
   ]
  },
  {
   "cell_type": "code",
   "execution_count": 3,
   "metadata": {},
   "outputs": [],
   "source": [
    "#Iniciando a sessão com spark\n",
    "spark = (\n",
    "    SparkSession.builder\n",
    "    .master('local')\n",
    "    .appName(\"Pyspark_02\")\n",
    "    .getOrCreate()\n",
    ")"
   ]
  },
  {
   "cell_type": "markdown",
   "metadata": {},
   "source": [
    "# 🎲Importação"
   ]
  },
  {
   "cell_type": "code",
   "execution_count": 4,
   "metadata": {},
   "outputs": [],
   "source": [
    "# Define o caminho do diretório onde estão os arquivos CSV\n",
    "diretorio = r'C:\\Users\\carol\\OneDrive\\Estudos\\MBA Data Science\\TCC\\SINASC\\Dados_SINASC'\n",
    "\n",
    "# Lista para armazenar os DataFrames de cada arquivo CSV\n",
    "dataframes = []\n",
    "\n",
    "# Percorre todos os arquivos no diretório\n",
    "for arquivo in os.listdir(diretorio):\n",
    "    if arquivo.endswith('.csv'):  # Verifica se o arquivo é um CSV\n",
    "        caminho_arquivo = os.path.join(diretorio, arquivo)\n",
    "        # Lê o arquivo CSV com o separador ';'\n",
    "        df = spark.read.option(\"header\", \"true\").csv(caminho_arquivo, sep=';')\n",
    "        # Remove a coluna \"CONTADOR\" ou \"contador\" do DataFrame, se existir\n",
    "        for coluna in df.columns:\n",
    "            if coluna.lower() == \"contador\":\n",
    "                df = df.drop(coluna)\n",
    "        dataframes.append(df)\n",
    "\n",
    "# Define uma função para unir dois DataFrames preservando apenas as colunas de mesmo nome\n",
    "def merge_dfs(df1, df2):\n",
    "    # Seleciona as colunas comuns para ambas os DataFrames\n",
    "    colunas_comuns = [coluna for coluna in df2.columns if coluna in df1.columns]\n",
    "    # Seleciona as colunas comuns para ambos os DataFrames\n",
    "    df2 = df2.select(colunas_comuns)\n",
    "    # Realiza a união dos DataFrames\n",
    "    return df1.unionByName(df2)\n",
    "\n",
    "# Aplica a função de união em todos os DataFrames\n",
    "df_sinasc = reduce(merge_dfs, dataframes)"
   ]
  },
  {
   "cell_type": "code",
   "execution_count": null,
   "metadata": {},
   "outputs": [],
   "source": [
    "#apagar dps, teste apenas como arquivo de 2023\n",
    "#caminho2 = r'C:\\Users\\carol\\OneDrive\\Estudos\\MBA Data Science\\TCC\\SINASC\\Dados_SINASC\\SINASC_2023.csv'\n",
    "#df_sinasc = spark.read.option(\"header\", \"true\").csv(caminho2, sep=';')"
   ]
  },
  {
   "cell_type": "code",
   "execution_count": 5,
   "metadata": {},
   "outputs": [
    {
     "name": "stdout",
     "output_type": "stream",
     "text": [
      "+------+--------+----------+-------+--------+---------+------+----------+----------+----------+---------+--------+--------+-----+---------+--------+--------+----+------+------+-------+----+--------+----------+---------+----------+----------+---------+-------+----------+----------+----------+---------+----------+----------+---------+----------+----------+----------+----------+--------+----------+----------+----------+----------+---------+----------+----------+----------+----------+----------+---------+----------+----------+----------+--------+----------+--------+--------+----------+\n",
      "|ORIGEM|CODESTAB|CODMUNNASC|LOCNASC|IDADEMAE|ESTCIVMAE|ESCMAE|CODOCUPMAE|QTDFILVIVO|QTDFILMORT|CODMUNRES|GESTACAO|GRAVIDEZ|PARTO|CONSULTAS|  DTNASC|HORANASC|SEXO|APGAR1|APGAR5|RACACOR|PESO|IDANOMAL|DTCADASTRO|CODANOMAL|NUMEROLOTE|VERSAOSIST|DTRECEBIM|DIFDATA|DTRECORIGA|NATURALMAE|CODMUNNATU|CODUFNATU|ESCMAE2010|SERIESCMAE|DTNASCMAE|RACACORMAE|QTDGESTANT|QTDPARTNOR|QTDPARTCES|IDADEPAI|DTULTMENST|SEMAGESTAC|TPMETESTIM|CONSPRENAT|MESPRENAT|TPAPRESENT|STTRABPART|STCESPARTO|TPNASCASSI|TPFUNCRESP|TPDOCRESP|DTDECLARAC|ESCMAEAGR1|STDNEPIDEM|STDNNOVA|CODPAISRES|TPROBSON|PARIDADE|KOTELCHUCK|\n",
      "+------+--------+----------+-------+--------+---------+------+----------+----------+----------+---------+--------+--------+-----+---------+--------+--------+----+------+------+-------+----+--------+----------+---------+----------+----------+---------+-------+----------+----------+----------+---------+----------+----------+---------+----------+----------+----------+----------+--------+----------+----------+----------+----------+---------+----------+----------+----------+----------+----------+---------+----------+----------+----------+--------+----------+--------+--------+----------+\n",
      "|     1| 5618347|    110020|      1|      29|        5|     3|      NULL|        00|        01|   120001|       5|       1|    2|        3|18022016|    0340|   2|    08|    09|      1|3985|       2|  03032016|     NULL|  20160006|    3.2.01| 18032016|    029|  18032016|       841|    410450|       41|         1|         4| 10081986|         1|        01|        00|        00|    NULL|  11052015|        40|         8|        06|       03|         1|         2|         1|         1|         2|        3|  18022016|        02|         0|       1|         1|      04|       1|         4|\n",
      "|     1| 5618347|    110020|      1|      14|        5|     3|      NULL|        00|        00|   120040|    NULL|       1|    1|        3|28012016|    2140|   2|    08|    09|      4|2560|       2|  04032016|     NULL|  20160006|    3.2.01| 18032016|    050|  18032016|       812|    120040|       12|         2|      NULL| 19032001|         4|        00|        00|        00|    NULL|      NULL|      NULL|      NULL|        04|       03|         1|         2|         3|         1|         2|        4|  28012016|        11|         0|       1|         1|      11|       0|         3|\n",
      "|     1| 4001303|    110020|      1|      30|        2|     3|      NULL|        01|        00|   120038|       5|       1|    2|        4|25022016|    1045|   2|    08|    09|      4|3670|       2|  05042016|     NULL|  20160007|    3.2.01| 12042016|    047|  12042016|       811|    110011|       11|         2|      NULL| 13081985|         4|        01|        00|        01|    NULL|  04062015|        37|         8|        10|       03|         1|         2|         2|         1|         2|        4|  25022016|        11|         0|       1|         1|      05|       1|         5|\n",
      "|     1| 5618347|    110020|      1|      23|        1|     4|      NULL|        01|        00|   120040|       4|       1|    2|        3|20042016|    1330|   2|    08|    09|      4|2495|       2|  23052016|     NULL|  20160011|    3.2.01| 20062016|    061|  20062016|       812|    120030|       12|         3|         1| 15091992|         4|        01|        00|        01|    NULL|  10082015|        36|         8|        06|       03|         1|         2|         2|         1|         2|        3|  20042016|        05|         0|       1|         1|      10|       1|         4|\n",
      "|     1| 5618347|    110020|      1|      30|        2|     4|      NULL|        01|        00|   120040|       5|       1|    1|        3|27042016|    0324|   2|    09|    09|      4|2945|       2|  23052016|     NULL|  20160011|    3.2.01| 20062016|    054|  20062016|       829|    290690|       29|         3|         3| 10071985|         4|        01|        00|        01|      39|  30072015|        38|         8|        04|       03|         1|         2|         3|         1|         2|        3|  27042016|        06|         0|       1|         1|      05|       1|         3|\n",
      "+------+--------+----------+-------+--------+---------+------+----------+----------+----------+---------+--------+--------+-----+---------+--------+--------+----+------+------+-------+----+--------+----------+---------+----------+----------+---------+-------+----------+----------+----------+---------+----------+----------+---------+----------+----------+----------+----------+--------+----------+----------+----------+----------+---------+----------+----------+----------+----------+----------+---------+----------+----------+----------+--------+----------+--------+--------+----------+\n",
      "only showing top 5 rows\n",
      "\n"
     ]
    }
   ],
   "source": [
    "df_sinasc.show(5)"
   ]
  },
  {
   "cell_type": "code",
   "execution_count": 6,
   "metadata": {},
   "outputs": [
    {
     "name": "stdout",
     "output_type": "stream",
     "text": [
      "Quantidade de linhas: 22076634\n",
      "Quantidade de colunas: 60\n"
     ]
    }
   ],
   "source": [
    "# Conta o número de linhas no DataFrame\n",
    "num_linhas = df_sinasc.count()\n",
    "# Obtém o número de colunas no DataFrame\n",
    "num_colunas = len(df_sinasc.columns)\n",
    "# Exibe a quantidade de linhas e colunas\n",
    "print(f\"Quantidade de linhas: {num_linhas}\")\n",
    "print(f\"Quantidade de colunas: {num_colunas}\")"
   ]
  },
  {
   "cell_type": "code",
   "execution_count": 7,
   "metadata": {},
   "outputs": [
    {
     "name": "stdout",
     "output_type": "stream",
     "text": [
      "root\n",
      " |-- ORIGEM: string (nullable = true)\n",
      " |-- CODESTAB: string (nullable = true)\n",
      " |-- CODMUNNASC: string (nullable = true)\n",
      " |-- LOCNASC: string (nullable = true)\n",
      " |-- IDADEMAE: string (nullable = true)\n",
      " |-- ESTCIVMAE: string (nullable = true)\n",
      " |-- ESCMAE: string (nullable = true)\n",
      " |-- CODOCUPMAE: string (nullable = true)\n",
      " |-- QTDFILVIVO: string (nullable = true)\n",
      " |-- QTDFILMORT: string (nullable = true)\n",
      " |-- CODMUNRES: string (nullable = true)\n",
      " |-- GESTACAO: string (nullable = true)\n",
      " |-- GRAVIDEZ: string (nullable = true)\n",
      " |-- PARTO: string (nullable = true)\n",
      " |-- CONSULTAS: string (nullable = true)\n",
      " |-- DTNASC: string (nullable = true)\n",
      " |-- HORANASC: string (nullable = true)\n",
      " |-- SEXO: string (nullable = true)\n",
      " |-- APGAR1: string (nullable = true)\n",
      " |-- APGAR5: string (nullable = true)\n",
      " |-- RACACOR: string (nullable = true)\n",
      " |-- PESO: string (nullable = true)\n",
      " |-- IDANOMAL: string (nullable = true)\n",
      " |-- DTCADASTRO: string (nullable = true)\n",
      " |-- CODANOMAL: string (nullable = true)\n",
      " |-- NUMEROLOTE: string (nullable = true)\n",
      " |-- VERSAOSIST: string (nullable = true)\n",
      " |-- DTRECEBIM: string (nullable = true)\n",
      " |-- DIFDATA: string (nullable = true)\n",
      " |-- DTRECORIGA: string (nullable = true)\n",
      " |-- NATURALMAE: string (nullable = true)\n",
      " |-- CODMUNNATU: string (nullable = true)\n",
      " |-- CODUFNATU: string (nullable = true)\n",
      " |-- ESCMAE2010: string (nullable = true)\n",
      " |-- SERIESCMAE: string (nullable = true)\n",
      " |-- DTNASCMAE: string (nullable = true)\n",
      " |-- RACACORMAE: string (nullable = true)\n",
      " |-- QTDGESTANT: string (nullable = true)\n",
      " |-- QTDPARTNOR: string (nullable = true)\n",
      " |-- QTDPARTCES: string (nullable = true)\n",
      " |-- IDADEPAI: string (nullable = true)\n",
      " |-- DTULTMENST: string (nullable = true)\n",
      " |-- SEMAGESTAC: string (nullable = true)\n",
      " |-- TPMETESTIM: string (nullable = true)\n",
      " |-- CONSPRENAT: string (nullable = true)\n",
      " |-- MESPRENAT: string (nullable = true)\n",
      " |-- TPAPRESENT: string (nullable = true)\n",
      " |-- STTRABPART: string (nullable = true)\n",
      " |-- STCESPARTO: string (nullable = true)\n",
      " |-- TPNASCASSI: string (nullable = true)\n",
      " |-- TPFUNCRESP: string (nullable = true)\n",
      " |-- TPDOCRESP: string (nullable = true)\n",
      " |-- DTDECLARAC: string (nullable = true)\n",
      " |-- ESCMAEAGR1: string (nullable = true)\n",
      " |-- STDNEPIDEM: string (nullable = true)\n",
      " |-- STDNNOVA: string (nullable = true)\n",
      " |-- CODPAISRES: string (nullable = true)\n",
      " |-- TPROBSON: string (nullable = true)\n",
      " |-- PARIDADE: string (nullable = true)\n",
      " |-- KOTELCHUCK: string (nullable = true)\n",
      "\n"
     ]
    }
   ],
   "source": [
    "df_sinasc.printSchema()"
   ]
  },
  {
   "cell_type": "markdown",
   "metadata": {},
   "source": [
    "# 🛠️Transformação"
   ]
  },
  {
   "cell_type": "markdown",
   "metadata": {},
   "source": [
    "### DTNASC"
   ]
  },
  {
   "cell_type": "code",
   "execution_count": 8,
   "metadata": {},
   "outputs": [],
   "source": [
    "# Converte a coluna 'DTNASC' para string e preenche com zeros à esquerda\n",
    "df_sinasc = df_sinasc.withColumn(\"DTNASC\", to_date(lpad(col(\"DTNASC\").cast(\"string\"), 8, '0'), \"ddMMyyyy\"))"
   ]
  },
  {
   "cell_type": "code",
   "execution_count": 9,
   "metadata": {},
   "outputs": [],
   "source": [
    "#Cria a coluna de ano\n",
    "df_sinasc = df_sinasc.withColumn(\"ANO\", year(df_sinasc[\"DTNASC\"]))"
   ]
  },
  {
   "cell_type": "markdown",
   "metadata": {},
   "source": [
    "# 🔢Contagens"
   ]
  },
  {
   "cell_type": "markdown",
   "metadata": {},
   "source": [
    "## Total"
   ]
  },
  {
   "cell_type": "code",
   "execution_count": 10,
   "metadata": {},
   "outputs": [
    {
     "name": "stdout",
     "output_type": "stream",
     "text": [
      "root\n",
      " |-- ANO: integer (nullable = true)\n",
      " |-- CODMUNNASC: string (nullable = true)\n",
      " |-- qt_linhas: long (nullable = false)\n",
      "\n",
      "+----+----------+---------+\n",
      "| ANO|CODMUNNASC|qt_linhas|\n",
      "+----+----------+---------+\n",
      "|2016|    290330|        1|\n",
      "|2016|    270630|     2754|\n",
      "|2016|    240800|     6727|\n",
      "|2016|    293345|       12|\n",
      "|2016|    260120|     2340|\n",
      "+----+----------+---------+\n",
      "only showing top 5 rows\n",
      "\n"
     ]
    }
   ],
   "source": [
    "total = df_sinasc.groupBy(\"ANO\", \"CODMUNNASC\").count().withColumnRenamed(\"count\", \"qt_linhas\")\n",
    "total.printSchema()\n",
    "total.show(5)"
   ]
  },
  {
   "cell_type": "code",
   "execution_count": 11,
   "metadata": {},
   "outputs": [
    {
     "name": "stdout",
     "output_type": "stream",
     "text": [
      "Quantidade de linhas: 30724\n",
      "Quantidade de colunas: 3\n"
     ]
    }
   ],
   "source": [
    "# Conta o número de linhas no DataFrame\n",
    "num_linhas = total.count()\n",
    "# Obtém o número de colunas no DataFrame\n",
    "num_colunas = len(total.columns)\n",
    "# Exibe a quantidade de linhas e colunas\n",
    "print(f\"Quantidade de linhas: {num_linhas}\")\n",
    "print(f\"Quantidade de colunas: {num_colunas}\")"
   ]
  },
  {
   "cell_type": "code",
   "execution_count": 12,
   "metadata": {},
   "outputs": [],
   "source": [
    "total_pd = total.toPandas()\n",
    "total_pd.to_csv('total_agreg_sinasc.csv', sep=';', index=False)"
   ]
  },
  {
   "cell_type": "markdown",
   "metadata": {},
   "source": [
    "## Ignorado"
   ]
  },
  {
   "cell_type": "code",
   "execution_count": 13,
   "metadata": {},
   "outputs": [
    {
     "name": "stdout",
     "output_type": "stream",
     "text": [
      "root\n",
      " |-- ANO: integer (nullable = true)\n",
      " |-- CODMUNNASC: string (nullable = true)\n",
      " |-- ESTCIVMAE: long (nullable = true)\n",
      " |-- ESCMAE: long (nullable = true)\n",
      " |-- GESTACAO: long (nullable = true)\n",
      " |-- GRAVIDEZ: long (nullable = true)\n",
      " |-- PARTO: long (nullable = true)\n",
      " |-- CONSULTAS: long (nullable = true)\n",
      " |-- SEXO: long (nullable = true)\n",
      " |-- IDANOMAL: long (nullable = true)\n",
      " |-- TPMETESTIM: long (nullable = true)\n",
      " |-- TPAPRESENT: long (nullable = true)\n",
      " |-- STTRABPART: long (nullable = true)\n",
      " |-- STCESPARTO: long (nullable = true)\n",
      " |-- ESCMAE2010: long (nullable = true)\n",
      " |-- TPNASCASSI: long (nullable = true)\n",
      " |-- ESCMAEAGR1: long (nullable = true)\n",
      "\n",
      "+----+----------+---------+------+--------+--------+-----+---------+----+--------+----------+----------+----------+----------+----------+----------+----------+\n",
      "| ANO|CODMUNNASC|ESTCIVMAE|ESCMAE|GESTACAO|GRAVIDEZ|PARTO|CONSULTAS|SEXO|IDANOMAL|TPMETESTIM|TPAPRESENT|STTRABPART|STCESPARTO|ESCMAE2010|TPNASCASSI|ESCMAEAGR1|\n",
      "+----+----------+---------+------+--------+--------+-----+---------+----+--------+----------+----------+----------+----------+----------+----------+----------+\n",
      "|2016|    290330|        1|     1|       0|       0|    0|        0|   0|       0|         0|         0|         0|         0|         1|         0|         1|\n",
      "|2016|    270630|       32|    12|       0|       0|    0|        0|   0|       0|       136|        11|       177|       135|        12|         3|        12|\n",
      "|2016|    240800|       14|    17|       0|       0|    0|       21|   0|      69|       401|        19|       136|       130|        17|         6|        17|\n",
      "+----+----------+---------+------+--------+--------+-----+---------+----+--------+----------+----------+----------+----------+----------+----------+----------+\n",
      "only showing top 3 rows\n",
      "\n"
     ]
    }
   ],
   "source": [
    "#gerando o df\n",
    "ignorados = df_sinasc.groupBy(\"ANO\", \"CODMUNNASC\").agg(*[\n",
    "    pyspark_sum(when(col(c) == 9, 1).otherwise(0)).alias(c)\n",
    "    for c in [\"ESTCIVMAE\",\"ESCMAE\",\"GESTACAO\",\"GRAVIDEZ\",\"PARTO\",\"CONSULTAS\",\"SEXO\",\"IDANOMAL\",\"TPMETESTIM\",\"TPAPRESENT\",\"STTRABPART\",\"STCESPARTO\",\"ESCMAE2010\",\"TPNASCASSI\",\"ESCMAEAGR1\"]\n",
    "])\n",
    "\n",
    "ignorados.printSchema()\n",
    "ignorados.show(3)"
   ]
  },
  {
   "cell_type": "code",
   "execution_count": 14,
   "metadata": {},
   "outputs": [
    {
     "name": "stdout",
     "output_type": "stream",
     "text": [
      "root\n",
      " |-- ANO: integer (nullable = true)\n",
      " |-- CODMUNNASC: string (nullable = true)\n",
      " |-- TIPO_COLUNA: string (nullable = true)\n",
      " |-- TIPO_CONTAGEM: string (nullable = false)\n",
      " |-- TIPO_QUANTIDADE: long (nullable = true)\n",
      "\n",
      "+----+----------+-----------+-------------+---------------+\n",
      "| ANO|CODMUNNASC|TIPO_COLUNA|TIPO_CONTAGEM|TIPO_QUANTIDADE|\n",
      "+----+----------+-----------+-------------+---------------+\n",
      "|2016|    290330|  ESTCIVMAE|     ignorado|              1|\n",
      "|2016|    290330|     ESCMAE|     ignorado|              1|\n",
      "|2016|    290330|   GESTACAO|     ignorado|              0|\n",
      "+----+----------+-----------+-------------+---------------+\n",
      "only showing top 3 rows\n",
      "\n"
     ]
    }
   ],
   "source": [
    "#unpivotando colunas\n",
    "# Lista de colunas a serem mantidas fixas\n",
    "fixed_cols = ['ANO', 'CODMUNNASC']\n",
    "\n",
    "# Lista de colunas a serem unpivotadas\n",
    "ignorados_cols = [col for col in ignorados.columns if col not in fixed_cols]\n",
    "\n",
    "# Construindo a expressão para unpivot\n",
    "ignorados_expr = \", \".join([f\"'{col}', {col}\" for col in ignorados_cols])\n",
    "\n",
    "# Aplicando o unpivot\n",
    "ignorados_df = ignorados.selectExpr(fixed_cols + \n",
    "                                    [f\"stack({len(ignorados_cols)}, {ignorados_expr})\"]). \\\n",
    "                          withColumnRenamed(\"col0\", \"TIPO_COLUNA\"). \\\n",
    "                          withColumn(\"TIPO_CONTAGEM\", lit(\"ignorado\")). \\\n",
    "                          withColumnRenamed(\"col1\", \"TIPO_QUANTIDADE\")\n",
    "\n",
    "#reordenando colunas\n",
    "ignorados_df = ignorados_df.select(\"ANO\", \"CODMUNNASC\", \"TIPO_COLUNA\", \"TIPO_CONTAGEM\", \"TIPO_QUANTIDADE\")\n",
    "\n",
    "ignorados_df.printSchema()\n",
    "ignorados_df.show(3)"
   ]
  },
  {
   "cell_type": "code",
   "execution_count": null,
   "metadata": {},
   "outputs": [],
   "source": [
    "# Conta o número de linhas no DataFrame\n",
    "num_linhas = ignorados_df.count()\n",
    "# Obtém o número de colunas no DataFrame\n",
    "num_colunas = len(ignorados_df.columns)\n",
    "# Exibe a quantidade de linhas e colunas\n",
    "print(f\"Quantidade de linhas: {num_linhas}\")\n",
    "print(f\"Quantidade de colunas: {num_colunas}\")"
   ]
  },
  {
   "cell_type": "code",
   "execution_count": 15,
   "metadata": {},
   "outputs": [],
   "source": [
    "ignorados_pd = ignorados_df.toPandas()\n",
    "ignorados_pd.to_csv('ignorados_agreg_sinasc.csv', sep=';', index=False)"
   ]
  },
  {
   "cell_type": "markdown",
   "metadata": {},
   "source": [
    "## Nulos"
   ]
  },
  {
   "cell_type": "code",
   "execution_count": 16,
   "metadata": {},
   "outputs": [
    {
     "name": "stdout",
     "output_type": "stream",
     "text": [
      "root\n",
      " |-- ANO: integer (nullable = true)\n",
      " |-- CODMUNNASC: string (nullable = true)\n",
      " |-- ORIGEM: long (nullable = false)\n",
      " |-- CODESTAB: long (nullable = false)\n",
      " |-- LOCNASC: long (nullable = false)\n",
      " |-- IDADEMAE: long (nullable = false)\n",
      " |-- ESTCIVMAE: long (nullable = false)\n",
      " |-- ESCMAE: long (nullable = false)\n",
      " |-- CODOCUPMAE: long (nullable = false)\n",
      " |-- QTDFILVIVO: long (nullable = false)\n",
      " |-- QTDFILMORT: long (nullable = false)\n",
      " |-- CODMUNRES: long (nullable = false)\n",
      " |-- GESTACAO: long (nullable = false)\n",
      " |-- GRAVIDEZ: long (nullable = false)\n",
      " |-- PARTO: long (nullable = false)\n",
      " |-- CONSULTAS: long (nullable = false)\n",
      " |-- DTNASC: long (nullable = false)\n",
      " |-- HORANASC: long (nullable = false)\n",
      " |-- SEXO: long (nullable = false)\n",
      " |-- APGAR1: long (nullable = false)\n",
      " |-- APGAR5: long (nullable = false)\n",
      " |-- RACACOR: long (nullable = false)\n",
      " |-- PESO: long (nullable = false)\n",
      " |-- IDANOMAL: long (nullable = false)\n",
      " |-- DTCADASTRO: long (nullable = false)\n",
      " |-- CODANOMAL: long (nullable = false)\n",
      " |-- NUMEROLOTE: long (nullable = false)\n",
      " |-- VERSAOSIST: long (nullable = false)\n",
      " |-- DTRECEBIM: long (nullable = false)\n",
      " |-- DIFDATA: long (nullable = false)\n",
      " |-- DTRECORIGA: long (nullable = false)\n",
      " |-- NATURALMAE: long (nullable = false)\n",
      " |-- CODMUNNATU: long (nullable = false)\n",
      " |-- CODUFNATU: long (nullable = false)\n",
      " |-- ESCMAE2010: long (nullable = false)\n",
      " |-- SERIESCMAE: long (nullable = false)\n",
      " |-- DTNASCMAE: long (nullable = false)\n",
      " |-- RACACORMAE: long (nullable = false)\n",
      " |-- QTDGESTANT: long (nullable = false)\n",
      " |-- QTDPARTNOR: long (nullable = false)\n",
      " |-- QTDPARTCES: long (nullable = false)\n",
      " |-- IDADEPAI: long (nullable = false)\n",
      " |-- DTULTMENST: long (nullable = false)\n",
      " |-- SEMAGESTAC: long (nullable = false)\n",
      " |-- TPMETESTIM: long (nullable = false)\n",
      " |-- CONSPRENAT: long (nullable = false)\n",
      " |-- MESPRENAT: long (nullable = false)\n",
      " |-- TPAPRESENT: long (nullable = false)\n",
      " |-- STTRABPART: long (nullable = false)\n",
      " |-- STCESPARTO: long (nullable = false)\n",
      " |-- TPNASCASSI: long (nullable = false)\n",
      " |-- TPFUNCRESP: long (nullable = false)\n",
      " |-- TPDOCRESP: long (nullable = false)\n",
      " |-- DTDECLARAC: long (nullable = false)\n",
      " |-- ESCMAEAGR1: long (nullable = false)\n",
      " |-- STDNEPIDEM: long (nullable = false)\n",
      " |-- STDNNOVA: long (nullable = false)\n",
      " |-- CODPAISRES: long (nullable = false)\n",
      " |-- TPROBSON: long (nullable = false)\n",
      " |-- PARIDADE: long (nullable = false)\n",
      " |-- KOTELCHUCK: long (nullable = false)\n",
      "\n",
      "+----+----------+------+--------+-------+--------+---------+------+----------+----------+----------+---------+--------+--------+-----+---------+------+--------+----+------+------+-------+----+--------+----------+---------+----------+----------+---------+-------+----------+----------+----------+---------+----------+----------+---------+----------+----------+----------+----------+--------+----------+----------+----------+----------+---------+----------+----------+----------+----------+----------+---------+----------+----------+----------+--------+----------+--------+--------+----------+\n",
      "| ANO|CODMUNNASC|ORIGEM|CODESTAB|LOCNASC|IDADEMAE|ESTCIVMAE|ESCMAE|CODOCUPMAE|QTDFILVIVO|QTDFILMORT|CODMUNRES|GESTACAO|GRAVIDEZ|PARTO|CONSULTAS|DTNASC|HORANASC|SEXO|APGAR1|APGAR5|RACACOR|PESO|IDANOMAL|DTCADASTRO|CODANOMAL|NUMEROLOTE|VERSAOSIST|DTRECEBIM|DIFDATA|DTRECORIGA|NATURALMAE|CODMUNNATU|CODUFNATU|ESCMAE2010|SERIESCMAE|DTNASCMAE|RACACORMAE|QTDGESTANT|QTDPARTNOR|QTDPARTCES|IDADEPAI|DTULTMENST|SEMAGESTAC|TPMETESTIM|CONSPRENAT|MESPRENAT|TPAPRESENT|STTRABPART|STCESPARTO|TPNASCASSI|TPFUNCRESP|TPDOCRESP|DTDECLARAC|ESCMAEAGR1|STDNEPIDEM|STDNNOVA|CODPAISRES|TPROBSON|PARIDADE|KOTELCHUCK|\n",
      "+----+----------+------+--------+-------+--------+---------+------+----------+----------+----------+---------+--------+--------+-----+---------+------+--------+----+------+------+-------+----+--------+----------+---------+----------+----------+---------+-------+----------+----------+----------+---------+----------+----------+---------+----------+----------+----------+----------+--------+----------+----------+----------+----------+---------+----------+----------+----------+----------+----------+---------+----------+----------+----------+--------+----------+--------+--------+----------+\n",
      "|2016|    290330|     0|       0|      0|       0|        0|     0|         1|         1|         1|        0|       0|       0|    0|        0|     0|       0|   0|     0|     0|      1|   0|       0|         0|        1|         0|         0|        0|      0|         0|         0|         0|        0|         0|         1|        0|         1|         0|         0|         1|       1|         0|         0|         0|         0|        0|         0|         0|         0|         0|         0|        0|         0|         0|         0|       0|         0|       0|       0|         0|\n",
      "|2016|    270630|     0|       1|      0|       0|        4|     0|      2754|        28|        30|        0|     259|       2|    3|        0|     0|       0|   0|     2|     2|     38|   1|       0|         0|     2745|         0|         0|        0|      0|         0|         5|         5|        5|         0|      1342|        0|        38|         0|         0|         1|    2698|       395|       259|       259|        34|        3|         3|         2|         9|         2|         2|        0|         2|         0|         0|       0|         0|       0|       0|         0|\n",
      "|2016|    240800|     0|       5|      0|       0|       78|    49|      6727|       387|       491|        0|     150|      43|    9|        0|     0|      12|   0|    37|    36|    958|   0|     140|         0|     6717|         0|         0|        0|      0|         0|        30|        30|       30|        50|      2830|       11|       959|       336|       466|       411|    6705|       571|       150|       150|       128|      301|        57|        44|        54|        24|        37|        1|        23|        50|         0|       0|         0|       0|       0|         0|\n",
      "+----+----------+------+--------+-------+--------+---------+------+----------+----------+----------+---------+--------+--------+-----+---------+------+--------+----+------+------+-------+----+--------+----------+---------+----------+----------+---------+-------+----------+----------+----------+---------+----------+----------+---------+----------+----------+----------+----------+--------+----------+----------+----------+----------+---------+----------+----------+----------+----------+----------+---------+----------+----------+----------+--------+----------+--------+--------+----------+\n",
      "only showing top 3 rows\n",
      "\n"
     ]
    }
   ],
   "source": [
    "nulos = df_sinasc.groupBy(\"ANO\", \"CODMUNNASC\").agg(*[\n",
    "    count(when(col(c).isNull(), c)).alias(c) for c in df_sinasc.columns \n",
    "    if c not in [\"ANO\", \"CODMUNNASC\"]\n",
    "])\n",
    "\n",
    "nulos.printSchema()\n",
    "nulos.show(3)"
   ]
  },
  {
   "cell_type": "code",
   "execution_count": 17,
   "metadata": {},
   "outputs": [
    {
     "name": "stdout",
     "output_type": "stream",
     "text": [
      "root\n",
      " |-- ANO: integer (nullable = true)\n",
      " |-- CODMUNNASC: string (nullable = true)\n",
      " |-- TIPO_COLUNA: string (nullable = true)\n",
      " |-- TIPO_CONTAGEM: string (nullable = false)\n",
      " |-- TIPO_QUANTIDADE: long (nullable = true)\n",
      "\n",
      "+----+----------+-----------+-------------+---------------+\n",
      "| ANO|CODMUNNASC|TIPO_COLUNA|TIPO_CONTAGEM|TIPO_QUANTIDADE|\n",
      "+----+----------+-----------+-------------+---------------+\n",
      "|2016|    290330|     ORIGEM|         nulo|              0|\n",
      "|2016|    290330|   CODESTAB|         nulo|              0|\n",
      "|2016|    290330|    LOCNASC|         nulo|              0|\n",
      "+----+----------+-----------+-------------+---------------+\n",
      "only showing top 3 rows\n",
      "\n"
     ]
    }
   ],
   "source": [
    "#unpivotando colunas\n",
    "# Lista de colunas a serem mantidas fixas\n",
    "fixed_cols = ['ANO', 'CODMUNNASC']\n",
    "\n",
    "# Lista de colunas a serem unpivotadas\n",
    "nulos_cols = [col for col in nulos.columns if col not in fixed_cols]\n",
    "\n",
    "# Construindo a expressão para unpivot\n",
    "nulos_expr = \", \".join([f\"'{col}', {col}\" for col in nulos_cols])\n",
    "\n",
    "# Aplicando o unpivot\n",
    "nulos_df = nulos.selectExpr(fixed_cols + \n",
    "                                    [f\"stack({len(nulos_cols)}, {nulos_expr})\"]). \\\n",
    "                          withColumnRenamed(\"col0\", \"TIPO_COLUNA\"). \\\n",
    "                          withColumn(\"TIPO_CONTAGEM\", lit(\"nulo\")). \\\n",
    "                          withColumnRenamed(\"col1\", \"TIPO_QUANTIDADE\")\n",
    "\n",
    "#reordenando colunas\n",
    "nulos_df = nulos_df.select(\"ANO\", \"CODMUNNASC\", \"TIPO_COLUNA\", \"TIPO_CONTAGEM\", \"TIPO_QUANTIDADE\")\n",
    "\n",
    "nulos_df.printSchema()\n",
    "nulos_df.show(3)"
   ]
  },
  {
   "cell_type": "code",
   "execution_count": null,
   "metadata": {},
   "outputs": [],
   "source": [
    "# Conta o número de linhas no DataFrame\n",
    "num_linhas = nulos_df.count()\n",
    "# Obtém o número de colunas no DataFrame\n",
    "num_colunas = len(nulos_df.columns)\n",
    "# Exibe a quantidade de linhas e colunas\n",
    "print(f\"Quantidade de linhas: {num_linhas}\")\n",
    "print(f\"Quantidade de colunas: {num_colunas}\")"
   ]
  },
  {
   "cell_type": "markdown",
   "metadata": {},
   "source": [
    "## Nulos e ignorados"
   ]
  },
  {
   "cell_type": "code",
   "execution_count": 19,
   "metadata": {},
   "outputs": [
    {
     "name": "stdout",
     "output_type": "stream",
     "text": [
      "root\n",
      " |-- ANO: integer (nullable = true)\n",
      " |-- CODMUNNASC: string (nullable = true)\n",
      " |-- TIPO_COLUNA: string (nullable = true)\n",
      " |-- QTD_NULOS: long (nullable = true)\n",
      " |-- QTD_IGNORADOS: long (nullable = true)\n",
      " |-- QTD_NULOS_IGNORADOS: long (nullable = true)\n",
      "\n",
      "+----+----------+-----------+---------+-------------+-------------------+\n",
      "| ANO|CODMUNNASC|TIPO_COLUNA|QTD_NULOS|QTD_IGNORADOS|QTD_NULOS_IGNORADOS|\n",
      "+----+----------+-----------+---------+-------------+-------------------+\n",
      "|2016|    290330|   IDADEMAE|        0|            0|                  0|\n",
      "|2016|    290330|   CODESTAB|        0|            0|                  0|\n",
      "|2016|    290330|     ORIGEM|        0|            0|                  0|\n",
      "+----+----------+-----------+---------+-------------+-------------------+\n",
      "only showing top 3 rows\n",
      "\n"
     ]
    }
   ],
   "source": [
    "# Renomear a coluna \"TIPO_QUANTIDADE\" para \"qtd_nulos\" em nulos_df\n",
    "nulos_df = nulos_df.withColumnRenamed(\"TIPO_QUANTIDADE\", \"QTD_NULOS\").drop(\"TIPO_CONTAGEM\")\n",
    "\n",
    "# Renomear a coluna \"TIPO_QUANTIDADE\" de ignorados_df para \"qtd_ignorados\"\n",
    "ignorados_df = ignorados_df.withColumnRenamed(\"TIPO_QUANTIDADE\", \"QTD_IGNORADOS\")\n",
    "\n",
    "# Realizar o left join\n",
    "nulos_ignorados_df = nulos_df.join(ignorados_df.select(\"ANO\", \"CODMUNNASC\", \"TIPO_COLUNA\",\"QTD_IGNORADOS\"), [\"ANO\", \"CODMUNNASC\", \"TIPO_COLUNA\"], \"left\")\n",
    "\n",
    "#Substituindo o valor zero na coluna de qtd_ignorados e criando coluna da soma\n",
    "nulos_ignorados_df  = nulos_ignorados_df.fillna(0, subset=[\"QTD_IGNORADOS\"])\\\n",
    "    .withColumn(\"QTD_NULOS_IGNORADOS\", col(\"qtd_nulos\") + col(\"qtd_ignorados\"))\n",
    "\n",
    "nulos_ignorados_df.printSchema()\n",
    "nulos_ignorados_df.show(3)\n"
   ]
  },
  {
   "cell_type": "code",
   "execution_count": null,
   "metadata": {},
   "outputs": [],
   "source": [
    "# Conta o número de linhas no DataFrame\n",
    "num_linhas = nulos_ignorados_df.count()\n",
    "# Obtém o número de colunas no DataFrame\n",
    "num_colunas = len(nulos_ignorados_df.columns)\n",
    "# Exibe a quantidade de linhas e colunas\n",
    "print(f\"Quantidade de linhas: {num_linhas}\")\n",
    "print(f\"Quantidade de colunas: {num_colunas}\")"
   ]
  },
  {
   "cell_type": "code",
   "execution_count": 20,
   "metadata": {},
   "outputs": [],
   "source": [
    "nulos_ignorados_pd = nulos_ignorados_df.toPandas()\n",
    "nulos_ignorados_pd.to_csv('nulos_ignorados_agreg_sinasc.csv', sep=';', index=False)"
   ]
  },
  {
   "cell_type": "markdown",
   "metadata": {},
   "source": [
    "# 🎲Bases suporte"
   ]
  },
  {
   "cell_type": "code",
   "execution_count": 3,
   "metadata": {},
   "outputs": [
    {
     "name": "stdout",
     "output_type": "stream",
     "text": [
      "WARNING *** OLE2 inconsistency: SSCS size is 0 but SSAT size is non-zero\n",
      "*** No CODEPAGE record, no encoding_override: will use 'iso-8859-1'\n"
     ]
    }
   ],
   "source": [
    "#intervalo2 = pd.read_excel(url_planilha, sheet_name='emissoes_C02', usecols= 'A:D', nrows=10)\n",
    "planilha_muni = r'C:\\Users\\carol\\OneDrive\\Estudos\\MBA Data Science\\TCC\\SINASC\\RELATORIO_DTB_BRASIL_MUNICIPIO.xls'\n",
    "\n",
    "cols = ['UF', 'Nome_UF', 'Município' ,'Código Município Completo', 'Nome_Município']\n",
    "df_muni = pd.read_excel(planilha_muni, sheet_name='DTB_2022_Municipio', usecols= cols, skiprows=6, nrows=5577)"
   ]
  },
  {
   "cell_type": "code",
   "execution_count": 4,
   "metadata": {},
   "outputs": [],
   "source": [
    "#renomeando colunas\n",
    "novo_nome = {\n",
    "    'UF': 'cod_uf',\n",
    "    'Nome_UF': 'uf',\n",
    "    'Município': 'cod_muni',\n",
    "    'Código Município Completo': 'cod_muni_completo',\n",
    "    'Nome_Município': 'nome_muni'\n",
    "}\n",
    "\n",
    "df_muni.rename(columns=novo_nome, inplace=True)"
   ]
  },
  {
   "cell_type": "code",
   "execution_count": 5,
   "metadata": {},
   "outputs": [],
   "source": [
    "#transformando col de cod para object\n",
    "col_object1 = ['cod_uf', 'cod_muni', 'cod_muni_completo']\n",
    "df_muni[col_object1] = df_muni[col_object1].astype(str)    "
   ]
  },
  {
   "cell_type": "code",
   "execution_count": 6,
   "metadata": {},
   "outputs": [],
   "source": [
    "#transformando chave muni\n",
    "df_muni['cod_muni'] = df_muni['cod_muni'].astype(str).str.pad(5, side = 'left', fillchar = '0')\n",
    "#retirando 1 caracter da coluna cod_municompleto\n",
    "df_muni['cod_muni_completo'] = df_muni['cod_muni_completo'].str.slice(0,6)"
   ]
  },
  {
   "cell_type": "code",
   "execution_count": 7,
   "metadata": {},
   "outputs": [],
   "source": [
    "#criando coluna de regiao\n",
    "\n",
    "# mapeia os estados para suas respectivas regiões\n",
    "regiao_por_estado = {\n",
    "    'Norte': ['Acre', 'Amapá', 'Amazonas', 'Pará', 'Rondônia', 'Roraima', 'Tocantins'],\n",
    "    'Nordeste': ['Alagoas', 'Bahia', 'Ceará', 'Maranhão', 'Paraíba', 'Pernambuco', 'Piauí', 'Rio Grande do Norte', 'Sergipe'],\n",
    "    'Centro-Oeste': ['Distrito Federal', 'Goiás', 'Mato Grosso', 'Mato Grosso do Sul'],\n",
    "    'Sudeste': ['Espírito Santo', 'Minas Gerais', 'Rio de Janeiro', 'São Paulo'],\n",
    "    'Sul': ['Paraná', 'Rio Grande do Sul', 'Santa Catarina']\n",
    "}\n",
    "\n",
    "# Função para mapear estados para regiões\n",
    "def mapear_regiao(uf):\n",
    "    for regiao, estados in regiao_por_estado.items():\n",
    "        if uf in estados:\n",
    "            return regiao\n",
    "    return None  # Retorna None se o estado não for encontrado\n",
    "\n",
    "#aplica na coluna\n",
    "df_muni['regiao'] = df_muni['uf'].apply(mapear_regiao)"
   ]
  },
  {
   "cell_type": "code",
   "execution_count": 8,
   "metadata": {},
   "outputs": [
    {
     "name": "stdout",
     "output_type": "stream",
     "text": [
      "<class 'pandas.core.frame.DataFrame'>\n",
      "RangeIndex: 5570 entries, 0 to 5569\n",
      "Data columns (total 6 columns):\n",
      " #   Column             Non-Null Count  Dtype \n",
      "---  ------             --------------  ----- \n",
      " 0   cod_uf             5570 non-null   object\n",
      " 1   uf                 5570 non-null   object\n",
      " 2   cod_muni           5570 non-null   object\n",
      " 3   cod_muni_completo  5570 non-null   object\n",
      " 4   nome_muni          5570 non-null   object\n",
      " 5   regiao             5570 non-null   object\n",
      "dtypes: object(6)\n",
      "memory usage: 261.2+ KB\n"
     ]
    }
   ],
   "source": [
    "df_muni.info()"
   ]
  },
  {
   "cell_type": "code",
   "execution_count": 9,
   "metadata": {},
   "outputs": [
    {
     "data": {
      "text/html": [
       "<div>\n",
       "<style scoped>\n",
       "    .dataframe tbody tr th:only-of-type {\n",
       "        vertical-align: middle;\n",
       "    }\n",
       "\n",
       "    .dataframe tbody tr th {\n",
       "        vertical-align: top;\n",
       "    }\n",
       "\n",
       "    .dataframe thead th {\n",
       "        text-align: right;\n",
       "    }\n",
       "</style>\n",
       "<table border=\"1\" class=\"dataframe\">\n",
       "  <thead>\n",
       "    <tr style=\"text-align: right;\">\n",
       "      <th></th>\n",
       "      <th>cod_uf</th>\n",
       "      <th>uf</th>\n",
       "      <th>cod_muni</th>\n",
       "      <th>cod_muni_completo</th>\n",
       "      <th>nome_muni</th>\n",
       "      <th>regiao</th>\n",
       "    </tr>\n",
       "  </thead>\n",
       "  <tbody>\n",
       "    <tr>\n",
       "      <th>0</th>\n",
       "      <td>11</td>\n",
       "      <td>Rondônia</td>\n",
       "      <td>00015</td>\n",
       "      <td>110001</td>\n",
       "      <td>Alta Floresta D'Oeste</td>\n",
       "      <td>Norte</td>\n",
       "    </tr>\n",
       "    <tr>\n",
       "      <th>1</th>\n",
       "      <td>11</td>\n",
       "      <td>Rondônia</td>\n",
       "      <td>00379</td>\n",
       "      <td>110037</td>\n",
       "      <td>Alto Alegre dos Parecis</td>\n",
       "      <td>Norte</td>\n",
       "    </tr>\n",
       "    <tr>\n",
       "      <th>2</th>\n",
       "      <td>11</td>\n",
       "      <td>Rondônia</td>\n",
       "      <td>00403</td>\n",
       "      <td>110040</td>\n",
       "      <td>Alto Paraíso</td>\n",
       "      <td>Norte</td>\n",
       "    </tr>\n",
       "    <tr>\n",
       "      <th>3</th>\n",
       "      <td>11</td>\n",
       "      <td>Rondônia</td>\n",
       "      <td>00346</td>\n",
       "      <td>110034</td>\n",
       "      <td>Alvorada D'Oeste</td>\n",
       "      <td>Norte</td>\n",
       "    </tr>\n",
       "    <tr>\n",
       "      <th>4</th>\n",
       "      <td>11</td>\n",
       "      <td>Rondônia</td>\n",
       "      <td>00023</td>\n",
       "      <td>110002</td>\n",
       "      <td>Ariquemes</td>\n",
       "      <td>Norte</td>\n",
       "    </tr>\n",
       "  </tbody>\n",
       "</table>\n",
       "</div>"
      ],
      "text/plain": [
       "  cod_uf        uf cod_muni cod_muni_completo                nome_muni regiao\n",
       "0     11  Rondônia    00015            110001    Alta Floresta D'Oeste  Norte\n",
       "1     11  Rondônia    00379            110037  Alto Alegre dos Parecis  Norte\n",
       "2     11  Rondônia    00403            110040             Alto Paraíso  Norte\n",
       "3     11  Rondônia    00346            110034         Alvorada D'Oeste  Norte\n",
       "4     11  Rondônia    00023            110002                Ariquemes  Norte"
      ]
     },
     "execution_count": 9,
     "metadata": {},
     "output_type": "execute_result"
    }
   ],
   "source": [
    "df_muni.head()"
   ]
  },
  {
   "cell_type": "code",
   "execution_count": 10,
   "metadata": {},
   "outputs": [],
   "source": [
    "df_muni.to_csv('d_muni.csv', sep = ';', index=False)"
   ]
  }
 ],
 "metadata": {
  "kernelspec": {
   "display_name": "pyspark",
   "language": "python",
   "name": "python3"
  },
  "language_info": {
   "codemirror_mode": {
    "name": "ipython",
    "version": 3
   },
   "file_extension": ".py",
   "mimetype": "text/x-python",
   "name": "python",
   "nbconvert_exporter": "python",
   "pygments_lexer": "ipython3",
   "version": "3.12.0"
  }
 },
 "nbformat": 4,
 "nbformat_minor": 2
}
